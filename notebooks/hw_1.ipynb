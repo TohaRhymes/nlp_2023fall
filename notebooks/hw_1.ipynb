{
 "cells": [
  {
   "cell_type": "markdown",
   "source": [
    "## Задание 1 - 10 баллов\n",
    "\n",
    "- Загрузить набор данных по выбору с помощью библиотеки Corus - **1 балл**\n",
    "- Провести релевантную предобработку выбранного датасета: - **6 баллов**\n",
    "  - Нормализация\n",
    "  - Токенизация\n",
    "  - Удаление стоп-слов\n",
    "  - Лемматизация/стемминг\n",
    "\n",
    "- Обеспечена воспроизводимость решения: зафиксированы random_state, ноутбук воспроизводится от начала до конца без ошибок - **2 балла**\n",
    "\n",
    "- Соблюден code style на уровне pep8 и [On writing clean Jupyter notebooks](https://ploomber.io/blog/clean-nbs/) - **1 балл**\n",
    "\n",
    "Инструменты для решения задач предобработки – NLTK, Gensim, Natasha, pymystem, pymorphy2…\n",
    "\n",
    "Для сдачи ДЗ - приложите ссылку на PR (Pull Request) из ветки hw_1 в ветку main в вашем приватном репозитории на github.com"
   ],
   "metadata": {
    "collapsed": false
   },
   "id": "9e9ee7217aa0bc1d"
  },
  {
   "cell_type": "code",
   "execution_count": 1,
   "outputs": [],
   "source": [
    "from corus import load_lenta\n",
    "import os\n",
    "import demoji\n",
    "import re\n",
    "from nltk.tokenize import word_tokenize\n",
    "import nltk\n",
    "import spacy\n",
    "\n",
    "SEED = 566\n",
    "# data dir\n",
    "DATA_DIR = \"../data\"\n",
    "# path to the data\n",
    "DATA_PATH = os.path.join(DATA_DIR, \"lenta-ru-news.csv.gz\")\n",
    "# amount of texts to work with\n",
    "N_TEXTS = 100"
   ],
   "metadata": {
    "collapsed": false,
    "ExecuteTime": {
     "end_time": "2023-10-06T18:00:05.286986625Z",
     "start_time": "2023-10-06T18:00:03.745381143Z"
    }
   },
   "id": "99f4bdc592d51b34"
  },
  {
   "cell_type": "code",
   "execution_count": 2,
   "outputs": [],
   "source": [
    "if not os.path.exists(DATA_DIR):\n",
    "    os.makedirs(DATA_DIR)"
   ],
   "metadata": {
    "collapsed": false,
    "ExecuteTime": {
     "end_time": "2023-10-06T18:00:10.586959158Z",
     "start_time": "2023-10-06T18:00:10.537985532Z"
    }
   },
   "id": "cf7a2e330d2cb7f4"
  },
  {
   "cell_type": "code",
   "execution_count": 5,
   "outputs": [],
   "source": [
    "nltk.download('punkt')\n",
    "nltk.download('stopwords')"
   ],
   "metadata": {
    "collapsed": false,
    "ExecuteTime": {
     "end_time": "2023-10-06T18:01:18.694419659Z",
     "start_time": "2023-10-06T18:01:18.664686700Z"
    }
   },
   "id": "c63851ce6e1f27fd"
  },
  {
   "cell_type": "markdown",
   "source": [
    "## Работа с библиотекой corus\n",
    "\n",
    "- Загрузить набор данных по выбору с помощью библиотеки Corus - **1 балл**\n"
   ],
   "metadata": {
    "collapsed": false
   },
   "id": "5d18996178bdca78"
  },
  {
   "cell_type": "markdown",
   "source": [
    "В большинстве своем датасеты достаточно большие, поэтому загрузим тот же самый датасет с практики.\n",
    "\n",
    "Чтобы скачать,воспользовался командой:"
   ],
   "metadata": {
    "collapsed": false
   },
   "id": "3a93ce29440a0faa"
  },
  {
   "cell_type": "code",
   "execution_count": 4,
   "outputs": [],
   "source": [
    "! wget https://github.com/yutkin/Lenta.Ru-News-Dataset/releases/download/v1.0/lenta-ru-news.csv.gz\n",
    "! mv lenta-ru-news.csv.gz ../data/"
   ],
   "metadata": {
    "collapsed": false,
    "ExecuteTime": {
     "end_time": "2023-10-06T18:01:12.577432528Z",
     "start_time": "2023-10-06T18:01:12.514199362Z"
    }
   },
   "id": "ae78bdcd12c5631c"
  },
  {
   "cell_type": "markdown",
   "source": [
    "#### Читаем датасет"
   ],
   "metadata": {
    "collapsed": false
   },
   "id": "5a0e429a40483e71"
  },
  {
   "cell_type": "code",
   "execution_count": 6,
   "outputs": [
    {
     "data": {
      "text/plain": "LentaRecord(\n    url='https://lenta.ru/news/2018/12/14/cancer/',\n    title='Названы регионы России с\\xa0самой высокой смертностью от\\xa0рака',\n    text='Вице-премьер по социальным вопросам Татьяна Голикова рассказала, в каких регионах России зафиксирована наиболее высокая смертность от рака, сообщает РИА Новости. По словам Голиковой, чаще всего онкологические заболевания становились причиной смерти в Псковской, Тверской, Тульской и Орловской областях, а также в Севастополе. Вице-премьер напомнила, что главные факторы смертности в России — рак и болезни системы кровообращения. В начале года стало известно, что смертность от онкологических заболеваний среди россиян снизилась впервые за три года. По данным Росстата, в 2017 году от рака умерли 289 тысяч человек. Это на 3,5 процента меньше, чем годом ранее.',\n    topic='Россия',\n    tags='Общество',\n    date=None\n)"
     },
     "execution_count": 6,
     "metadata": {},
     "output_type": "execute_result"
    }
   ],
   "source": [
    "records = load_lenta(DATA_PATH)\n",
    "next(records)"
   ],
   "metadata": {
    "collapsed": false,
    "ExecuteTime": {
     "end_time": "2023-10-06T18:01:32.821351132Z",
     "start_time": "2023-10-06T18:01:32.791103644Z"
    }
   },
   "id": "49d77d915afef456"
  },
  {
   "cell_type": "code",
   "execution_count": 7,
   "outputs": [
    {
     "data": {
      "text/plain": "'Австрийские правоохранительные органы не представили доказательств нарушения российскими биатлонистами антидопинговых правил. Об этом сообщил посол России в Вене Дмитрий Любинский по итогам встречи уполномоченного адвоката дипмиссии с представителями прокуратуры страны, передает ТАСС. «Действует презумпция невиновности. Каких-либо ограничений свободы передвижения для команды нет», — добавили в посольстве. Международный союз биатлонистов (IBU) также не будет применять санкции к российским биатлонистам. Все они продолжат выступление на Кубке мира. Полиция нагрянула в отель сборной России в Хохфильцене вечером 12 декабря. Как написал биатлонист Александр Логинов, их считают виновными в махинациях с переливанием крови. Биатлонисту Антону Шипулину, также попавшему в список, полиция нанесла отдельный визит: сейчас он тренируется отдельно в австрийском Обертиллахе. Обвинения спортсмен назвал бредом, а также указал на «охоту на ведьм» в мировом биатлоне. В Австрии прием допинга — уголовное преступление. Максимальное наказание за его употребление — три года тюрьмы.'"
     },
     "execution_count": 7,
     "metadata": {},
     "output_type": "execute_result"
    }
   ],
   "source": [
    "dataset = [next(records).text for i in range(N_TEXTS)]\n",
    "dataset[0]"
   ],
   "metadata": {
    "collapsed": false,
    "ExecuteTime": {
     "end_time": "2023-10-06T18:01:39.942404936Z",
     "start_time": "2023-10-06T18:01:39.860861737Z"
    }
   },
   "id": "cc81a14f5cac23be"
  },
  {
   "cell_type": "markdown",
   "source": [
    "## Предобработка\n",
    "\n",
    "\n",
    "### Нормализация (очистка текста)\n",
    "\n",
    "Так как мы не парсили html-страницы, здесь определенно нет html-тэгов (а если есть, значит они тут нужны (всякое в новостях бывает).\n",
    "\n",
    "А вот Emoji могут быть. Не получилось с помощью cleantext сделать это (русский язык кажется не работает), нашел другую библиотеку"
   ],
   "metadata": {
    "collapsed": false
   },
   "id": "20615600b770606a"
  },
  {
   "cell_type": "code",
   "execution_count": 8,
   "outputs": [
    {
     "data": {
      "text/plain": "'Привет! Я думою  ты седишь  на деване. Ответьь:  a@ch.com'"
     },
     "execution_count": 8,
     "metadata": {},
     "output_type": "execute_result"
    }
   ],
   "source": [
    "text_test = \"Привет! Я думою 🤔 ты седишь 🙈 на деване. Ответьь: 😌 a@ch.com\"\n",
    "text_test = demoji.replace(text_test)\n",
    "text_test"
   ],
   "metadata": {
    "collapsed": false,
    "ExecuteTime": {
     "end_time": "2023-10-06T18:01:45.435394018Z",
     "start_time": "2023-10-06T18:01:45.296347141Z"
    }
   },
   "id": "527488efe1fd4d93"
  },
  {
   "cell_type": "markdown",
   "source": [
    "Также на будущее научимся еще чистить mail'ы (для английского опять же работает clean-text, для русского нет:():"
   ],
   "metadata": {
    "collapsed": false
   },
   "id": "a2593281e5568a11"
  },
  {
   "cell_type": "code",
   "execution_count": 9,
   "outputs": [
    {
     "data": {
      "text/plain": "'Привет! Я думою  ты седишь  на деване. Ответьь:  <EMAIL>'"
     },
     "execution_count": 9,
     "metadata": {},
     "output_type": "execute_result"
    }
   ],
   "source": [
    "pattern_email = r'([A-Za-z0-9]+[.-_])*[A-Za-z0-9]+@[A-Za-z0-9-]+(\\.[A-Z|a-z]{2,})+'\n",
    "text_test = re.sub(pattern_email, '<EMAIL>', text_test)\n",
    "text_test"
   ],
   "metadata": {
    "collapsed": false,
    "ExecuteTime": {
     "end_time": "2023-10-06T18:01:47.665932678Z",
     "start_time": "2023-10-06T18:01:47.645895180Z"
    }
   },
   "id": "79a3ee7e7a6515a3"
  },
  {
   "cell_type": "markdown",
   "source": [
    "Все вместе в виде функции, которую потом можно будет переиспользовать:"
   ],
   "metadata": {
    "collapsed": false
   },
   "id": "10f6ed43e86596ce"
  },
  {
   "cell_type": "code",
   "execution_count": 10,
   "outputs": [],
   "source": [
    "from typing import List\n",
    "\n",
    "PATTERN_EMAIL = r'([A-Za-z0-9]+[.-_])*[A-Za-z0-9]+@[A-Za-z0-9-]+(\\.[A-Z|a-z]{2,})+'\n",
    "\n",
    "\n",
    "def normalize_text(text: str) -> str:\n",
    "    checked_text = demoji.replace(text)\n",
    "    checked_text = re.sub(PATTERN_EMAIL, '<EMAIL>', checked_text)\n",
    "    return checked_text\n",
    "\n",
    "\n",
    "def normalize_data(text_data: List[str]) -> List[str]:\n",
    "    return list(map(normalize_text, text_data))"
   ],
   "metadata": {
    "collapsed": false,
    "ExecuteTime": {
     "end_time": "2023-10-06T18:01:50.033191380Z",
     "start_time": "2023-10-06T18:01:49.962606460Z"
    }
   },
   "id": "7c2d4551a9cb8415"
  },
  {
   "cell_type": "code",
   "execution_count": 11,
   "outputs": [
    {
     "data": {
      "text/plain": "'Австрийские правоохранительные органы не представили доказательств нарушения российскими биатлонистами антидопинговых правил. Об этом сообщил посол России в Вене Дмитрий Любинский по итогам встречи уполномоченного адвоката дипмиссии с представителями прокуратуры страны, передает ТАСС. «Действует презумпция невиновности. Каких-либо ограничений свободы передвижения для команды нет», — добавили в посольстве. Международный союз биатлонистов (IBU) также не будет применять санкции к российским биатлонистам. Все они продолжат выступление на Кубке мира. Полиция нагрянула в отель сборной России в Хохфильцене вечером 12 декабря. Как написал биатлонист Александр Логинов, их считают виновными в махинациях с переливанием крови. Биатлонисту Антону Шипулину, также попавшему в список, полиция нанесла отдельный визит: сейчас он тренируется отдельно в австрийском Обертиллахе. Обвинения спортсмен назвал бредом, а также указал на «охоту на ведьм» в мировом биатлоне. В Австрии прием допинга — уголовное преступление. Максимальное наказание за его употребление — три года тюрьмы.'"
     },
     "execution_count": 11,
     "metadata": {},
     "output_type": "execute_result"
    }
   ],
   "source": [
    "normalized_dataset = normalize_data(dataset)\n",
    "normalized_dataset[0]"
   ],
   "metadata": {
    "collapsed": false,
    "ExecuteTime": {
     "end_time": "2023-10-06T18:01:54.070308480Z",
     "start_time": "2023-10-06T18:01:53.233911118Z"
    }
   },
   "id": "969a54a3a2a06aba"
  },
  {
   "cell_type": "markdown",
   "source": [
    "#### Токенизация\n",
    "\n",
    "Будем токенизировать по словам из библиотеки nltk."
   ],
   "metadata": {
    "collapsed": false
   },
   "id": "fab2ba4eb45f4a61"
  },
  {
   "cell_type": "code",
   "execution_count": 12,
   "outputs": [],
   "source": [
    "def tokenize_russian(text: str) -> List[str]:\n",
    "    return word_tokenize(text, language=\"russian\")\n",
    "\n",
    "\n",
    "def tokenize_data(text_data: List[str]) -> List[List[str]]:\n",
    "    return list(map(tokenize_russian, text_data))"
   ],
   "metadata": {
    "collapsed": false,
    "ExecuteTime": {
     "end_time": "2023-10-06T18:01:57.303744344Z",
     "start_time": "2023-10-06T18:01:57.287108105Z"
    }
   },
   "id": "1a41ef8a83ac9d1d"
  },
  {
   "cell_type": "code",
   "execution_count": 13,
   "outputs": [
    {
     "data": {
      "text/plain": "['Австрийские',\n 'правоохранительные',\n 'органы',\n 'не',\n 'представили',\n 'доказательств',\n 'нарушения',\n 'российскими',\n 'биатлонистами',\n 'антидопинговых']"
     },
     "execution_count": 13,
     "metadata": {},
     "output_type": "execute_result"
    }
   ],
   "source": [
    "tokenized_dataset = tokenize_data(normalized_dataset)\n",
    "tokenized_dataset[0][:10]"
   ],
   "metadata": {
    "collapsed": false,
    "ExecuteTime": {
     "end_time": "2023-10-06T18:02:03.809330238Z",
     "start_time": "2023-10-06T18:02:03.576018490Z"
    }
   },
   "id": "2aaa18652abdf74f"
  },
  {
   "cell_type": "markdown",
   "source": [
    "#### Spacy: Удаление стоп-слов + стемминг\n",
    "\n",
    "Хотел в этой части использовать Spacy, но оказалось, Spacy сам делает токенизацию в том числе (по 1 слову передавать, мн кажется меньше смысла -- так как пропадут связи между слов), поэтому тут воспользуемся снова на нормализованных текстах. При этом будем делать несколько вещей:\n",
    "\n",
    "1. Пропускать stop-слова\n",
    "2. Пропускать знаки пунктуации и служебные части речи: {PUNCT, ADP, AUX, CCONJ, SCONJ}.\n",
    "3. Если предыдущие 2 пункта удовлетварены, брать лемму."
   ],
   "metadata": {
    "collapsed": false
   },
   "id": "781963c545487f"
  },
  {
   "cell_type": "code",
   "execution_count": 14,
   "outputs": [],
   "source": [
    "nlp = spacy.load(\"ru_core_news_sm\")\n",
    "CHECK_POS = {'PUNCT', 'ADP', 'AUX', 'CCONJ', 'SCONJ'}\n",
    "\n",
    "\n",
    "def tokenize_clean_stem(text: str) -> List[str]:\n",
    "    text_NLPed = nlp(text)\n",
    "    return [token.lemma_ for token in text_NLPed\n",
    "            if token.pos_ not in CHECK_POS and not token.is_stop]\n",
    "\n",
    "\n",
    "def tokenize_clean_stem_data(text_data: List[str]) -> List[List[str]]:\n",
    "    return list(map(tokenize_clean_stem, text_data))"
   ],
   "metadata": {
    "collapsed": false,
    "ExecuteTime": {
     "end_time": "2023-10-06T18:02:17.259830833Z",
     "start_time": "2023-10-06T18:02:15.288105381Z"
    }
   },
   "id": "e3de0a5f53eab276"
  },
  {
   "cell_type": "code",
   "execution_count": 15,
   "outputs": [
    {
     "data": {
      "text/plain": "[' ',\n 'капитан',\n 'вашингтон',\n 'александр',\n 'овечкин',\n 'сделать',\n 'хет',\n '-',\n 'трик',\n 'игра']"
     },
     "execution_count": 15,
     "metadata": {},
     "output_type": "execute_result"
    }
   ],
   "source": [
    "tokenized_cleaned_stemmed_dataset = tokenize_clean_stem_data(normalized_dataset)\n",
    "tokenized_cleaned_stemmed_dataset[10][:10]"
   ],
   "metadata": {
    "collapsed": false,
    "ExecuteTime": {
     "end_time": "2023-10-06T18:02:33.303902604Z",
     "start_time": "2023-10-06T18:02:25.583570013Z"
    }
   },
   "id": "5b53593b23e1b83"
  },
  {
   "cell_type": "markdown",
   "source": [
    "### Все вместе\n",
    "Соединим все вместе и посчитаем за сколько это отработает (на 500 текстах)"
   ],
   "metadata": {
    "collapsed": false
   },
   "id": "4387954c2506211e"
  },
  {
   "cell_type": "code",
   "execution_count": 16,
   "outputs": [],
   "source": [
    "def pipeline_preprocessing(text_data: List[str]) -> List[List[str]]:\n",
    "    data = normalize_data(text_data)\n",
    "    return tokenize_clean_stem_data(data)"
   ],
   "metadata": {
    "collapsed": false,
    "ExecuteTime": {
     "end_time": "2023-10-06T18:02:33.345775609Z",
     "start_time": "2023-10-06T18:02:33.300129925Z"
    }
   },
   "id": "52f38920de726930"
  },
  {
   "cell_type": "code",
   "execution_count": 17,
   "outputs": [
    {
     "name": "stdout",
     "output_type": "stream",
     "text": [
      "6.66 s ± 236 ms per loop (mean ± std. dev. of 7 runs, 1 loop each)\n"
     ]
    }
   ],
   "source": [
    "%%timeit\n",
    "\n",
    "preprocessed_dataset = pipeline_preprocessing(dataset)"
   ],
   "metadata": {
    "collapsed": false,
    "ExecuteTime": {
     "end_time": "2023-10-06T18:03:26.847650818Z",
     "start_time": "2023-10-06T18:02:33.344823304Z"
    }
   },
   "id": "ccb4f81603f36d3"
  }
 ],
 "metadata": {
  "kernelspec": {
   "display_name": "Python 3",
   "language": "python",
   "name": "python3"
  },
  "language_info": {
   "codemirror_mode": {
    "name": "ipython",
    "version": 2
   },
   "file_extension": ".py",
   "mimetype": "text/x-python",
   "name": "python",
   "nbconvert_exporter": "python",
   "pygments_lexer": "ipython2",
   "version": "2.7.6"
  }
 },
 "nbformat": 4,
 "nbformat_minor": 5
}
