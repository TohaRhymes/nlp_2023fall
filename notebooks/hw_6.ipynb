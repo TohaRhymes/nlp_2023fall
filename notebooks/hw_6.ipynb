{
  "nbformat": 4,
  "nbformat_minor": 0,
  "metadata": {
    "colab": {
      "provenance": [],
      "gpuType": "T4"
    },
    "kernelspec": {
      "name": "python3",
      "display_name": "Python 3"
    },
    "language_info": {
      "name": "python"
    },
    "widgets": {
      "application/vnd.jupyter.widget-state+json": {
        "3b438ac7e98144b2af76608ef11fd4f6": {
          "model_module": "@jupyter-widgets/controls",
          "model_name": "HBoxModel",
          "model_module_version": "1.5.0",
          "state": {
            "_dom_classes": [],
            "_model_module": "@jupyter-widgets/controls",
            "_model_module_version": "1.5.0",
            "_model_name": "HBoxModel",
            "_view_count": null,
            "_view_module": "@jupyter-widgets/controls",
            "_view_module_version": "1.5.0",
            "_view_name": "HBoxView",
            "box_style": "",
            "children": [
              "IPY_MODEL_5f071056018b4ea5a1f57ac56d8d8d55",
              "IPY_MODEL_066c5855b3e3410498aee7488f805923",
              "IPY_MODEL_de44d7c5415d491d86866599d8165e60"
            ],
            "layout": "IPY_MODEL_c9ef00b5d870443aa8fc2700645e53ac"
          }
        },
        "5f071056018b4ea5a1f57ac56d8d8d55": {
          "model_module": "@jupyter-widgets/controls",
          "model_name": "HTMLModel",
          "model_module_version": "1.5.0",
          "state": {
            "_dom_classes": [],
            "_model_module": "@jupyter-widgets/controls",
            "_model_module_version": "1.5.0",
            "_model_name": "HTMLModel",
            "_view_count": null,
            "_view_module": "@jupyter-widgets/controls",
            "_view_module_version": "1.5.0",
            "_view_name": "HTMLView",
            "description": "",
            "description_tooltip": null,
            "layout": "IPY_MODEL_4616288826da44d1ae0ceb1dd87946a0",
            "placeholder": "​",
            "style": "IPY_MODEL_66c9f46834534d3594c93d65b15712a3",
            "value": "Map: 100%"
          }
        },
        "066c5855b3e3410498aee7488f805923": {
          "model_module": "@jupyter-widgets/controls",
          "model_name": "FloatProgressModel",
          "model_module_version": "1.5.0",
          "state": {
            "_dom_classes": [],
            "_model_module": "@jupyter-widgets/controls",
            "_model_module_version": "1.5.0",
            "_model_name": "FloatProgressModel",
            "_view_count": null,
            "_view_module": "@jupyter-widgets/controls",
            "_view_module_version": "1.5.0",
            "_view_name": "ProgressView",
            "bar_style": "success",
            "description": "",
            "description_tooltip": null,
            "layout": "IPY_MODEL_044221d85fc249aaa76d216cf56a8c28",
            "max": 7221,
            "min": 0,
            "orientation": "horizontal",
            "style": "IPY_MODEL_a0e2904d224c43bea05bf84b58c8784b",
            "value": 7221
          }
        },
        "de44d7c5415d491d86866599d8165e60": {
          "model_module": "@jupyter-widgets/controls",
          "model_name": "HTMLModel",
          "model_module_version": "1.5.0",
          "state": {
            "_dom_classes": [],
            "_model_module": "@jupyter-widgets/controls",
            "_model_module_version": "1.5.0",
            "_model_name": "HTMLModel",
            "_view_count": null,
            "_view_module": "@jupyter-widgets/controls",
            "_view_module_version": "1.5.0",
            "_view_name": "HTMLView",
            "description": "",
            "description_tooltip": null,
            "layout": "IPY_MODEL_9de8185e10104ebfa6321bf2e111d090",
            "placeholder": "​",
            "style": "IPY_MODEL_eda66b714aaf478aa399433976dfce42",
            "value": " 7221/7221 [00:15&lt;00:00, 395.27 examples/s]"
          }
        },
        "c9ef00b5d870443aa8fc2700645e53ac": {
          "model_module": "@jupyter-widgets/base",
          "model_name": "LayoutModel",
          "model_module_version": "1.2.0",
          "state": {
            "_model_module": "@jupyter-widgets/base",
            "_model_module_version": "1.2.0",
            "_model_name": "LayoutModel",
            "_view_count": null,
            "_view_module": "@jupyter-widgets/base",
            "_view_module_version": "1.2.0",
            "_view_name": "LayoutView",
            "align_content": null,
            "align_items": null,
            "align_self": null,
            "border": null,
            "bottom": null,
            "display": null,
            "flex": null,
            "flex_flow": null,
            "grid_area": null,
            "grid_auto_columns": null,
            "grid_auto_flow": null,
            "grid_auto_rows": null,
            "grid_column": null,
            "grid_gap": null,
            "grid_row": null,
            "grid_template_areas": null,
            "grid_template_columns": null,
            "grid_template_rows": null,
            "height": null,
            "justify_content": null,
            "justify_items": null,
            "left": null,
            "margin": null,
            "max_height": null,
            "max_width": null,
            "min_height": null,
            "min_width": null,
            "object_fit": null,
            "object_position": null,
            "order": null,
            "overflow": null,
            "overflow_x": null,
            "overflow_y": null,
            "padding": null,
            "right": null,
            "top": null,
            "visibility": null,
            "width": null
          }
        },
        "4616288826da44d1ae0ceb1dd87946a0": {
          "model_module": "@jupyter-widgets/base",
          "model_name": "LayoutModel",
          "model_module_version": "1.2.0",
          "state": {
            "_model_module": "@jupyter-widgets/base",
            "_model_module_version": "1.2.0",
            "_model_name": "LayoutModel",
            "_view_count": null,
            "_view_module": "@jupyter-widgets/base",
            "_view_module_version": "1.2.0",
            "_view_name": "LayoutView",
            "align_content": null,
            "align_items": null,
            "align_self": null,
            "border": null,
            "bottom": null,
            "display": null,
            "flex": null,
            "flex_flow": null,
            "grid_area": null,
            "grid_auto_columns": null,
            "grid_auto_flow": null,
            "grid_auto_rows": null,
            "grid_column": null,
            "grid_gap": null,
            "grid_row": null,
            "grid_template_areas": null,
            "grid_template_columns": null,
            "grid_template_rows": null,
            "height": null,
            "justify_content": null,
            "justify_items": null,
            "left": null,
            "margin": null,
            "max_height": null,
            "max_width": null,
            "min_height": null,
            "min_width": null,
            "object_fit": null,
            "object_position": null,
            "order": null,
            "overflow": null,
            "overflow_x": null,
            "overflow_y": null,
            "padding": null,
            "right": null,
            "top": null,
            "visibility": null,
            "width": null
          }
        },
        "66c9f46834534d3594c93d65b15712a3": {
          "model_module": "@jupyter-widgets/controls",
          "model_name": "DescriptionStyleModel",
          "model_module_version": "1.5.0",
          "state": {
            "_model_module": "@jupyter-widgets/controls",
            "_model_module_version": "1.5.0",
            "_model_name": "DescriptionStyleModel",
            "_view_count": null,
            "_view_module": "@jupyter-widgets/base",
            "_view_module_version": "1.2.0",
            "_view_name": "StyleView",
            "description_width": ""
          }
        },
        "044221d85fc249aaa76d216cf56a8c28": {
          "model_module": "@jupyter-widgets/base",
          "model_name": "LayoutModel",
          "model_module_version": "1.2.0",
          "state": {
            "_model_module": "@jupyter-widgets/base",
            "_model_module_version": "1.2.0",
            "_model_name": "LayoutModel",
            "_view_count": null,
            "_view_module": "@jupyter-widgets/base",
            "_view_module_version": "1.2.0",
            "_view_name": "LayoutView",
            "align_content": null,
            "align_items": null,
            "align_self": null,
            "border": null,
            "bottom": null,
            "display": null,
            "flex": null,
            "flex_flow": null,
            "grid_area": null,
            "grid_auto_columns": null,
            "grid_auto_flow": null,
            "grid_auto_rows": null,
            "grid_column": null,
            "grid_gap": null,
            "grid_row": null,
            "grid_template_areas": null,
            "grid_template_columns": null,
            "grid_template_rows": null,
            "height": null,
            "justify_content": null,
            "justify_items": null,
            "left": null,
            "margin": null,
            "max_height": null,
            "max_width": null,
            "min_height": null,
            "min_width": null,
            "object_fit": null,
            "object_position": null,
            "order": null,
            "overflow": null,
            "overflow_x": null,
            "overflow_y": null,
            "padding": null,
            "right": null,
            "top": null,
            "visibility": null,
            "width": null
          }
        },
        "a0e2904d224c43bea05bf84b58c8784b": {
          "model_module": "@jupyter-widgets/controls",
          "model_name": "ProgressStyleModel",
          "model_module_version": "1.5.0",
          "state": {
            "_model_module": "@jupyter-widgets/controls",
            "_model_module_version": "1.5.0",
            "_model_name": "ProgressStyleModel",
            "_view_count": null,
            "_view_module": "@jupyter-widgets/base",
            "_view_module_version": "1.2.0",
            "_view_name": "StyleView",
            "bar_color": null,
            "description_width": ""
          }
        },
        "9de8185e10104ebfa6321bf2e111d090": {
          "model_module": "@jupyter-widgets/base",
          "model_name": "LayoutModel",
          "model_module_version": "1.2.0",
          "state": {
            "_model_module": "@jupyter-widgets/base",
            "_model_module_version": "1.2.0",
            "_model_name": "LayoutModel",
            "_view_count": null,
            "_view_module": "@jupyter-widgets/base",
            "_view_module_version": "1.2.0",
            "_view_name": "LayoutView",
            "align_content": null,
            "align_items": null,
            "align_self": null,
            "border": null,
            "bottom": null,
            "display": null,
            "flex": null,
            "flex_flow": null,
            "grid_area": null,
            "grid_auto_columns": null,
            "grid_auto_flow": null,
            "grid_auto_rows": null,
            "grid_column": null,
            "grid_gap": null,
            "grid_row": null,
            "grid_template_areas": null,
            "grid_template_columns": null,
            "grid_template_rows": null,
            "height": null,
            "justify_content": null,
            "justify_items": null,
            "left": null,
            "margin": null,
            "max_height": null,
            "max_width": null,
            "min_height": null,
            "min_width": null,
            "object_fit": null,
            "object_position": null,
            "order": null,
            "overflow": null,
            "overflow_x": null,
            "overflow_y": null,
            "padding": null,
            "right": null,
            "top": null,
            "visibility": null,
            "width": null
          }
        },
        "eda66b714aaf478aa399433976dfce42": {
          "model_module": "@jupyter-widgets/controls",
          "model_name": "DescriptionStyleModel",
          "model_module_version": "1.5.0",
          "state": {
            "_model_module": "@jupyter-widgets/controls",
            "_model_module_version": "1.5.0",
            "_model_name": "DescriptionStyleModel",
            "_view_count": null,
            "_view_module": "@jupyter-widgets/base",
            "_view_module_version": "1.2.0",
            "_view_name": "StyleView",
            "description_width": ""
          }
        },
        "dde248ac4ed24a3ea3ba6b2906682a8f": {
          "model_module": "@jupyter-widgets/controls",
          "model_name": "HBoxModel",
          "model_module_version": "1.5.0",
          "state": {
            "_dom_classes": [],
            "_model_module": "@jupyter-widgets/controls",
            "_model_module_version": "1.5.0",
            "_model_name": "HBoxModel",
            "_view_count": null,
            "_view_module": "@jupyter-widgets/controls",
            "_view_module_version": "1.5.0",
            "_view_name": "HBoxView",
            "box_style": "",
            "children": [
              "IPY_MODEL_c69fa5f9c7574e5a80d702bc7256f5a8",
              "IPY_MODEL_77c5b94d6fbb481b86927e9ebb9fe176",
              "IPY_MODEL_61372f21491b4eebb69ef6d29cb55fc0"
            ],
            "layout": "IPY_MODEL_f62e7dc2e95442efb05e074f7d2a3456"
          }
        },
        "c69fa5f9c7574e5a80d702bc7256f5a8": {
          "model_module": "@jupyter-widgets/controls",
          "model_name": "HTMLModel",
          "model_module_version": "1.5.0",
          "state": {
            "_dom_classes": [],
            "_model_module": "@jupyter-widgets/controls",
            "_model_module_version": "1.5.0",
            "_model_name": "HTMLModel",
            "_view_count": null,
            "_view_module": "@jupyter-widgets/controls",
            "_view_module_version": "1.5.0",
            "_view_name": "HTMLView",
            "description": "",
            "description_tooltip": null,
            "layout": "IPY_MODEL_e2710d3c6a634ed79375b57adf7ad3d7",
            "placeholder": "​",
            "style": "IPY_MODEL_fa6a6e70f2ca445898a6ac98e1b4f322",
            "value": "Map: 100%"
          }
        },
        "77c5b94d6fbb481b86927e9ebb9fe176": {
          "model_module": "@jupyter-widgets/controls",
          "model_name": "FloatProgressModel",
          "model_module_version": "1.5.0",
          "state": {
            "_dom_classes": [],
            "_model_module": "@jupyter-widgets/controls",
            "_model_module_version": "1.5.0",
            "_model_name": "FloatProgressModel",
            "_view_count": null,
            "_view_module": "@jupyter-widgets/controls",
            "_view_module_version": "1.5.0",
            "_view_name": "ProgressView",
            "bar_style": "success",
            "description": "",
            "description_tooltip": null,
            "layout": "IPY_MODEL_ebd4322621bd4758a49526e1eac0e937",
            "max": 2407,
            "min": 0,
            "orientation": "horizontal",
            "style": "IPY_MODEL_97736c8d1e9647a0a0969d830f760290",
            "value": 2407
          }
        },
        "61372f21491b4eebb69ef6d29cb55fc0": {
          "model_module": "@jupyter-widgets/controls",
          "model_name": "HTMLModel",
          "model_module_version": "1.5.0",
          "state": {
            "_dom_classes": [],
            "_model_module": "@jupyter-widgets/controls",
            "_model_module_version": "1.5.0",
            "_model_name": "HTMLModel",
            "_view_count": null,
            "_view_module": "@jupyter-widgets/controls",
            "_view_module_version": "1.5.0",
            "_view_name": "HTMLView",
            "description": "",
            "description_tooltip": null,
            "layout": "IPY_MODEL_11818e372be14be3be5a6cb6846857c6",
            "placeholder": "​",
            "style": "IPY_MODEL_c5240f61b2864a8da66866d75e54225b",
            "value": " 2407/2407 [00:04&lt;00:00, 568.99 examples/s]"
          }
        },
        "f62e7dc2e95442efb05e074f7d2a3456": {
          "model_module": "@jupyter-widgets/base",
          "model_name": "LayoutModel",
          "model_module_version": "1.2.0",
          "state": {
            "_model_module": "@jupyter-widgets/base",
            "_model_module_version": "1.2.0",
            "_model_name": "LayoutModel",
            "_view_count": null,
            "_view_module": "@jupyter-widgets/base",
            "_view_module_version": "1.2.0",
            "_view_name": "LayoutView",
            "align_content": null,
            "align_items": null,
            "align_self": null,
            "border": null,
            "bottom": null,
            "display": null,
            "flex": null,
            "flex_flow": null,
            "grid_area": null,
            "grid_auto_columns": null,
            "grid_auto_flow": null,
            "grid_auto_rows": null,
            "grid_column": null,
            "grid_gap": null,
            "grid_row": null,
            "grid_template_areas": null,
            "grid_template_columns": null,
            "grid_template_rows": null,
            "height": null,
            "justify_content": null,
            "justify_items": null,
            "left": null,
            "margin": null,
            "max_height": null,
            "max_width": null,
            "min_height": null,
            "min_width": null,
            "object_fit": null,
            "object_position": null,
            "order": null,
            "overflow": null,
            "overflow_x": null,
            "overflow_y": null,
            "padding": null,
            "right": null,
            "top": null,
            "visibility": null,
            "width": null
          }
        },
        "e2710d3c6a634ed79375b57adf7ad3d7": {
          "model_module": "@jupyter-widgets/base",
          "model_name": "LayoutModel",
          "model_module_version": "1.2.0",
          "state": {
            "_model_module": "@jupyter-widgets/base",
            "_model_module_version": "1.2.0",
            "_model_name": "LayoutModel",
            "_view_count": null,
            "_view_module": "@jupyter-widgets/base",
            "_view_module_version": "1.2.0",
            "_view_name": "LayoutView",
            "align_content": null,
            "align_items": null,
            "align_self": null,
            "border": null,
            "bottom": null,
            "display": null,
            "flex": null,
            "flex_flow": null,
            "grid_area": null,
            "grid_auto_columns": null,
            "grid_auto_flow": null,
            "grid_auto_rows": null,
            "grid_column": null,
            "grid_gap": null,
            "grid_row": null,
            "grid_template_areas": null,
            "grid_template_columns": null,
            "grid_template_rows": null,
            "height": null,
            "justify_content": null,
            "justify_items": null,
            "left": null,
            "margin": null,
            "max_height": null,
            "max_width": null,
            "min_height": null,
            "min_width": null,
            "object_fit": null,
            "object_position": null,
            "order": null,
            "overflow": null,
            "overflow_x": null,
            "overflow_y": null,
            "padding": null,
            "right": null,
            "top": null,
            "visibility": null,
            "width": null
          }
        },
        "fa6a6e70f2ca445898a6ac98e1b4f322": {
          "model_module": "@jupyter-widgets/controls",
          "model_name": "DescriptionStyleModel",
          "model_module_version": "1.5.0",
          "state": {
            "_model_module": "@jupyter-widgets/controls",
            "_model_module_version": "1.5.0",
            "_model_name": "DescriptionStyleModel",
            "_view_count": null,
            "_view_module": "@jupyter-widgets/base",
            "_view_module_version": "1.2.0",
            "_view_name": "StyleView",
            "description_width": ""
          }
        },
        "ebd4322621bd4758a49526e1eac0e937": {
          "model_module": "@jupyter-widgets/base",
          "model_name": "LayoutModel",
          "model_module_version": "1.2.0",
          "state": {
            "_model_module": "@jupyter-widgets/base",
            "_model_module_version": "1.2.0",
            "_model_name": "LayoutModel",
            "_view_count": null,
            "_view_module": "@jupyter-widgets/base",
            "_view_module_version": "1.2.0",
            "_view_name": "LayoutView",
            "align_content": null,
            "align_items": null,
            "align_self": null,
            "border": null,
            "bottom": null,
            "display": null,
            "flex": null,
            "flex_flow": null,
            "grid_area": null,
            "grid_auto_columns": null,
            "grid_auto_flow": null,
            "grid_auto_rows": null,
            "grid_column": null,
            "grid_gap": null,
            "grid_row": null,
            "grid_template_areas": null,
            "grid_template_columns": null,
            "grid_template_rows": null,
            "height": null,
            "justify_content": null,
            "justify_items": null,
            "left": null,
            "margin": null,
            "max_height": null,
            "max_width": null,
            "min_height": null,
            "min_width": null,
            "object_fit": null,
            "object_position": null,
            "order": null,
            "overflow": null,
            "overflow_x": null,
            "overflow_y": null,
            "padding": null,
            "right": null,
            "top": null,
            "visibility": null,
            "width": null
          }
        },
        "97736c8d1e9647a0a0969d830f760290": {
          "model_module": "@jupyter-widgets/controls",
          "model_name": "ProgressStyleModel",
          "model_module_version": "1.5.0",
          "state": {
            "_model_module": "@jupyter-widgets/controls",
            "_model_module_version": "1.5.0",
            "_model_name": "ProgressStyleModel",
            "_view_count": null,
            "_view_module": "@jupyter-widgets/base",
            "_view_module_version": "1.2.0",
            "_view_name": "StyleView",
            "bar_color": null,
            "description_width": ""
          }
        },
        "11818e372be14be3be5a6cb6846857c6": {
          "model_module": "@jupyter-widgets/base",
          "model_name": "LayoutModel",
          "model_module_version": "1.2.0",
          "state": {
            "_model_module": "@jupyter-widgets/base",
            "_model_module_version": "1.2.0",
            "_model_name": "LayoutModel",
            "_view_count": null,
            "_view_module": "@jupyter-widgets/base",
            "_view_module_version": "1.2.0",
            "_view_name": "LayoutView",
            "align_content": null,
            "align_items": null,
            "align_self": null,
            "border": null,
            "bottom": null,
            "display": null,
            "flex": null,
            "flex_flow": null,
            "grid_area": null,
            "grid_auto_columns": null,
            "grid_auto_flow": null,
            "grid_auto_rows": null,
            "grid_column": null,
            "grid_gap": null,
            "grid_row": null,
            "grid_template_areas": null,
            "grid_template_columns": null,
            "grid_template_rows": null,
            "height": null,
            "justify_content": null,
            "justify_items": null,
            "left": null,
            "margin": null,
            "max_height": null,
            "max_width": null,
            "min_height": null,
            "min_width": null,
            "object_fit": null,
            "object_position": null,
            "order": null,
            "overflow": null,
            "overflow_x": null,
            "overflow_y": null,
            "padding": null,
            "right": null,
            "top": null,
            "visibility": null,
            "width": null
          }
        },
        "c5240f61b2864a8da66866d75e54225b": {
          "model_module": "@jupyter-widgets/controls",
          "model_name": "DescriptionStyleModel",
          "model_module_version": "1.5.0",
          "state": {
            "_model_module": "@jupyter-widgets/controls",
            "_model_module_version": "1.5.0",
            "_model_name": "DescriptionStyleModel",
            "_view_count": null,
            "_view_module": "@jupyter-widgets/base",
            "_view_module_version": "1.2.0",
            "_view_name": "StyleView",
            "description_width": ""
          }
        },
        "1a43f02d18e0449897af898c24db2f84": {
          "model_module": "@jupyter-widgets/controls",
          "model_name": "HBoxModel",
          "model_module_version": "1.5.0",
          "state": {
            "_dom_classes": [],
            "_model_module": "@jupyter-widgets/controls",
            "_model_module_version": "1.5.0",
            "_model_name": "HBoxModel",
            "_view_count": null,
            "_view_module": "@jupyter-widgets/controls",
            "_view_module_version": "1.5.0",
            "_view_name": "HBoxView",
            "box_style": "",
            "children": [
              "IPY_MODEL_ed41808101504c1a861dc6756dca604a",
              "IPY_MODEL_dcaf098da4fa422296c2134097d015d1",
              "IPY_MODEL_ded11bf009874803811740952d9a45fe"
            ],
            "layout": "IPY_MODEL_083a31c133b74cc7bdbd4ab1db667b2c"
          }
        },
        "ed41808101504c1a861dc6756dca604a": {
          "model_module": "@jupyter-widgets/controls",
          "model_name": "HTMLModel",
          "model_module_version": "1.5.0",
          "state": {
            "_dom_classes": [],
            "_model_module": "@jupyter-widgets/controls",
            "_model_module_version": "1.5.0",
            "_model_name": "HTMLModel",
            "_view_count": null,
            "_view_module": "@jupyter-widgets/controls",
            "_view_module_version": "1.5.0",
            "_view_name": "HTMLView",
            "description": "",
            "description_tooltip": null,
            "layout": "IPY_MODEL_80caf32137144bedbc47eb72f8a0cc35",
            "placeholder": "​",
            "style": "IPY_MODEL_9b987425a2c84eb39f49d8939e7e515a",
            "value": "Map: 100%"
          }
        },
        "dcaf098da4fa422296c2134097d015d1": {
          "model_module": "@jupyter-widgets/controls",
          "model_name": "FloatProgressModel",
          "model_module_version": "1.5.0",
          "state": {
            "_dom_classes": [],
            "_model_module": "@jupyter-widgets/controls",
            "_model_module_version": "1.5.0",
            "_model_name": "FloatProgressModel",
            "_view_count": null,
            "_view_module": "@jupyter-widgets/controls",
            "_view_module_version": "1.5.0",
            "_view_name": "ProgressView",
            "bar_style": "success",
            "description": "",
            "description_tooltip": null,
            "layout": "IPY_MODEL_15ae6f86eed54301b581af30fda779ea",
            "max": 2408,
            "min": 0,
            "orientation": "horizontal",
            "style": "IPY_MODEL_ac8a88b4d5bd4311aaae5a11190a7337",
            "value": 2408
          }
        },
        "ded11bf009874803811740952d9a45fe": {
          "model_module": "@jupyter-widgets/controls",
          "model_name": "HTMLModel",
          "model_module_version": "1.5.0",
          "state": {
            "_dom_classes": [],
            "_model_module": "@jupyter-widgets/controls",
            "_model_module_version": "1.5.0",
            "_model_name": "HTMLModel",
            "_view_count": null,
            "_view_module": "@jupyter-widgets/controls",
            "_view_module_version": "1.5.0",
            "_view_name": "HTMLView",
            "description": "",
            "description_tooltip": null,
            "layout": "IPY_MODEL_195bdb04c55c40d899ed522cfe53b87b",
            "placeholder": "​",
            "style": "IPY_MODEL_0fefdd07c23c405d95db9756cae4913e",
            "value": " 2408/2408 [00:07&lt;00:00, 308.04 examples/s]"
          }
        },
        "083a31c133b74cc7bdbd4ab1db667b2c": {
          "model_module": "@jupyter-widgets/base",
          "model_name": "LayoutModel",
          "model_module_version": "1.2.0",
          "state": {
            "_model_module": "@jupyter-widgets/base",
            "_model_module_version": "1.2.0",
            "_model_name": "LayoutModel",
            "_view_count": null,
            "_view_module": "@jupyter-widgets/base",
            "_view_module_version": "1.2.0",
            "_view_name": "LayoutView",
            "align_content": null,
            "align_items": null,
            "align_self": null,
            "border": null,
            "bottom": null,
            "display": null,
            "flex": null,
            "flex_flow": null,
            "grid_area": null,
            "grid_auto_columns": null,
            "grid_auto_flow": null,
            "grid_auto_rows": null,
            "grid_column": null,
            "grid_gap": null,
            "grid_row": null,
            "grid_template_areas": null,
            "grid_template_columns": null,
            "grid_template_rows": null,
            "height": null,
            "justify_content": null,
            "justify_items": null,
            "left": null,
            "margin": null,
            "max_height": null,
            "max_width": null,
            "min_height": null,
            "min_width": null,
            "object_fit": null,
            "object_position": null,
            "order": null,
            "overflow": null,
            "overflow_x": null,
            "overflow_y": null,
            "padding": null,
            "right": null,
            "top": null,
            "visibility": null,
            "width": null
          }
        },
        "80caf32137144bedbc47eb72f8a0cc35": {
          "model_module": "@jupyter-widgets/base",
          "model_name": "LayoutModel",
          "model_module_version": "1.2.0",
          "state": {
            "_model_module": "@jupyter-widgets/base",
            "_model_module_version": "1.2.0",
            "_model_name": "LayoutModel",
            "_view_count": null,
            "_view_module": "@jupyter-widgets/base",
            "_view_module_version": "1.2.0",
            "_view_name": "LayoutView",
            "align_content": null,
            "align_items": null,
            "align_self": null,
            "border": null,
            "bottom": null,
            "display": null,
            "flex": null,
            "flex_flow": null,
            "grid_area": null,
            "grid_auto_columns": null,
            "grid_auto_flow": null,
            "grid_auto_rows": null,
            "grid_column": null,
            "grid_gap": null,
            "grid_row": null,
            "grid_template_areas": null,
            "grid_template_columns": null,
            "grid_template_rows": null,
            "height": null,
            "justify_content": null,
            "justify_items": null,
            "left": null,
            "margin": null,
            "max_height": null,
            "max_width": null,
            "min_height": null,
            "min_width": null,
            "object_fit": null,
            "object_position": null,
            "order": null,
            "overflow": null,
            "overflow_x": null,
            "overflow_y": null,
            "padding": null,
            "right": null,
            "top": null,
            "visibility": null,
            "width": null
          }
        },
        "9b987425a2c84eb39f49d8939e7e515a": {
          "model_module": "@jupyter-widgets/controls",
          "model_name": "DescriptionStyleModel",
          "model_module_version": "1.5.0",
          "state": {
            "_model_module": "@jupyter-widgets/controls",
            "_model_module_version": "1.5.0",
            "_model_name": "DescriptionStyleModel",
            "_view_count": null,
            "_view_module": "@jupyter-widgets/base",
            "_view_module_version": "1.2.0",
            "_view_name": "StyleView",
            "description_width": ""
          }
        },
        "15ae6f86eed54301b581af30fda779ea": {
          "model_module": "@jupyter-widgets/base",
          "model_name": "LayoutModel",
          "model_module_version": "1.2.0",
          "state": {
            "_model_module": "@jupyter-widgets/base",
            "_model_module_version": "1.2.0",
            "_model_name": "LayoutModel",
            "_view_count": null,
            "_view_module": "@jupyter-widgets/base",
            "_view_module_version": "1.2.0",
            "_view_name": "LayoutView",
            "align_content": null,
            "align_items": null,
            "align_self": null,
            "border": null,
            "bottom": null,
            "display": null,
            "flex": null,
            "flex_flow": null,
            "grid_area": null,
            "grid_auto_columns": null,
            "grid_auto_flow": null,
            "grid_auto_rows": null,
            "grid_column": null,
            "grid_gap": null,
            "grid_row": null,
            "grid_template_areas": null,
            "grid_template_columns": null,
            "grid_template_rows": null,
            "height": null,
            "justify_content": null,
            "justify_items": null,
            "left": null,
            "margin": null,
            "max_height": null,
            "max_width": null,
            "min_height": null,
            "min_width": null,
            "object_fit": null,
            "object_position": null,
            "order": null,
            "overflow": null,
            "overflow_x": null,
            "overflow_y": null,
            "padding": null,
            "right": null,
            "top": null,
            "visibility": null,
            "width": null
          }
        },
        "ac8a88b4d5bd4311aaae5a11190a7337": {
          "model_module": "@jupyter-widgets/controls",
          "model_name": "ProgressStyleModel",
          "model_module_version": "1.5.0",
          "state": {
            "_model_module": "@jupyter-widgets/controls",
            "_model_module_version": "1.5.0",
            "_model_name": "ProgressStyleModel",
            "_view_count": null,
            "_view_module": "@jupyter-widgets/base",
            "_view_module_version": "1.2.0",
            "_view_name": "StyleView",
            "bar_color": null,
            "description_width": ""
          }
        },
        "195bdb04c55c40d899ed522cfe53b87b": {
          "model_module": "@jupyter-widgets/base",
          "model_name": "LayoutModel",
          "model_module_version": "1.2.0",
          "state": {
            "_model_module": "@jupyter-widgets/base",
            "_model_module_version": "1.2.0",
            "_model_name": "LayoutModel",
            "_view_count": null,
            "_view_module": "@jupyter-widgets/base",
            "_view_module_version": "1.2.0",
            "_view_name": "LayoutView",
            "align_content": null,
            "align_items": null,
            "align_self": null,
            "border": null,
            "bottom": null,
            "display": null,
            "flex": null,
            "flex_flow": null,
            "grid_area": null,
            "grid_auto_columns": null,
            "grid_auto_flow": null,
            "grid_auto_rows": null,
            "grid_column": null,
            "grid_gap": null,
            "grid_row": null,
            "grid_template_areas": null,
            "grid_template_columns": null,
            "grid_template_rows": null,
            "height": null,
            "justify_content": null,
            "justify_items": null,
            "left": null,
            "margin": null,
            "max_height": null,
            "max_width": null,
            "min_height": null,
            "min_width": null,
            "object_fit": null,
            "object_position": null,
            "order": null,
            "overflow": null,
            "overflow_x": null,
            "overflow_y": null,
            "padding": null,
            "right": null,
            "top": null,
            "visibility": null,
            "width": null
          }
        },
        "0fefdd07c23c405d95db9756cae4913e": {
          "model_module": "@jupyter-widgets/controls",
          "model_name": "DescriptionStyleModel",
          "model_module_version": "1.5.0",
          "state": {
            "_model_module": "@jupyter-widgets/controls",
            "_model_module_version": "1.5.0",
            "_model_name": "DescriptionStyleModel",
            "_view_count": null,
            "_view_module": "@jupyter-widgets/base",
            "_view_module_version": "1.2.0",
            "_view_name": "StyleView",
            "description_width": ""
          }
        }
      }
    },
    "accelerator": "GPU"
  },
  "cells": [
    {
      "cell_type": "markdown",
      "source": [
        "# Задание 6 - 10 баллов\n",
        "\n",
        "- Изучить [главу 3. Fine-tuning a pretrained model туториалов HuggingFace](https://huggingface.co/learn/nlp-course/chapter3/1)\n",
        "- Выбрать модель архитектуры BERT/GPT в HuggingFace hub для решения задач Text Classification / Text Generation\n",
        "- Выбрать набор данных для конкретной задачи из HuggingFace Datasets\n",
        "- Дообучить выбранную модель - **5 баллов**\n",
        "- Сравнить качество до и после дообучения с учетом метрик, специфичных для выбранной задачи - **2 балла**\n",
        "- Обеспечена воспроизводимость решения: зафиксированы random_state, ноутбук воспроизводится от начала до конца без ошибок - **2 балла**\n",
        "\n",
        "- Соблюден code style на уровне pep8 и [On writing clean Jupyter notebooks](https://ploomber.io/blog/clean-nbs/)  - **1 балл**"
      ],
      "metadata": {
        "id": "q2V-6KQnEYKs"
      }
    },
    {
      "cell_type": "code",
      "source": [
        "!pip install datasets transformers accelerate evaluate > None"
      ],
      "metadata": {
        "id": "uU2aF7hcJOLP"
      },
      "execution_count": 1,
      "outputs": []
    },
    {
      "cell_type": "code",
      "source": [
        "import ast\n",
        "\n",
        "from pprint import pprint\n",
        "\n",
        "import numpy as np\n",
        "\n",
        "from sklearn.metrics import accuracy_score, precision_recall_fscore_support\n",
        "\n",
        "from datasets import load_dataset, DatasetDict, Dataset\n",
        "from transformers import AutoTokenizer\n",
        "from transformers import AutoModelForSequenceClassification\n",
        "from transformers import Trainer, TrainingArguments\n",
        "from transformers import EvalPrediction\n",
        "\n",
        "import evaluate\n",
        "\n",
        "\n",
        "SEED=566"
      ],
      "metadata": {
        "id": "dmIqV_3kLIRo"
      },
      "execution_count": 2,
      "outputs": []
    },
    {
      "cell_type": "markdown",
      "source": [
        "# Данные\n",
        "\n",
        "Буду использовать данные по ревью больниц, нас будет интересовать текстовый обзор (инпут) и general оценка (аутпут).\n"
      ],
      "metadata": {
        "id": "xA0IW5_PfKl8"
      }
    },
    {
      "cell_type": "code",
      "source": [
        "full_dataset = load_dataset(\"blinoff/medical_institutions_reviews\")\n",
        "full_dataset, full_dataset[\"train\"][100]"
      ],
      "metadata": {
        "colab": {
          "base_uri": "https://localhost:8080/"
        },
        "id": "LTb45U92JOOG",
        "outputId": "d8a26cb4-14d4-45d6-b6b1-ba3d167b1b0f"
      },
      "execution_count": 3,
      "outputs": [
        {
          "output_type": "execute_result",
          "data": {
            "text/plain": [
              "(DatasetDict({\n",
              "     train: Dataset({\n",
              "         features: ['review_id', 'content', 'general', 'quality', 'service', 'equipment', 'food', 'location', 'Idx'],\n",
              "         num_rows: 12036\n",
              "     })\n",
              " }),\n",
              " {'review_id': '100',\n",
              "  'content': 'современное оборудование, сеть клиник, нет очередей не обнаружено; Месяц назад надо было срочно посетить стоматолога. Позвонила к \"своему\", но ждать приема надо было две недели. Пришлось искать, кто примет быстрее. Через интернет нашла стоматологическую клинику \"Мой зубной\". Записали на прием через 4 дня. За день до назначенного времени позвонили из клиники, напомнили, что у меня запись на прием. В холле встретила администратор, завела на меня медицинскую карточку. Предложила бесплатные бахилы - удобный сервис, не надо думать о мелочах. В назначенное время за мной вышла лечащая врач. Внимательно меня выслушала, принесла договор на подпись, расписала для меня на отдельном листе план работы с подробным описанием цен за каждую услугу и преступила к лечению. Оборудование у клиники современное. Взяла с собой одноразовые платочки, но они не пригодились. Очень дешевый рентген (всего 50 рублей). У меня был не самый простой вариант лечения, приходила к врачу два раза. Сумма получилась 5000, примерно как в других клиниках. \"Мой зубной\" - целая сеть клиник, можно выбрать отделение ближе к дому. Очень понравился график работы с 9 утра до 21.00. В интернете на сайте можно ознакомиться с ценами на услуги.',\n",
              "  'general': '5',\n",
              "  'quality': '5',\n",
              "  'service': '5',\n",
              "  'equipment': '5',\n",
              "  'food': '5',\n",
              "  'location': '5',\n",
              "  'Idx': 100})"
            ]
          },
          "metadata": {},
          "execution_count": 3
        }
      ]
    },
    {
      "cell_type": "markdown",
      "source": [
        "Во первых замапим range Оценок 1-5 на 0-4"
      ],
      "metadata": {
        "id": "IlARw-Ylb9Jg"
      }
    },
    {
      "cell_type": "code",
      "source": [
        "def label_to_int(example):\n",
        "    example['labels'] = int(example['general']) - 1\n",
        "    return example\n",
        "\n",
        "full_dataset = full_dataset.map(label_to_int)"
      ],
      "metadata": {
        "id": "d9SIDl0Xb8zX"
      },
      "execution_count": 4,
      "outputs": []
    },
    {
      "cell_type": "markdown",
      "source": [
        "Так как есть только трэйн, вручную создадим трэйн-вал-тест"
      ],
      "metadata": {
        "id": "HjOQn5k_aTen"
      }
    },
    {
      "cell_type": "code",
      "source": [
        "dataset = full_dataset['train'].train_test_split(test_size=0.4, seed=SEED)\n",
        "dataset_va_te = dataset['test'].train_test_split(test_size=0.5, seed=SEED)\n",
        "dataset = DatasetDict({'train': dataset['train'],\n",
        "                       'validate': dataset_va_te['train'],\n",
        "                       'test': dataset_va_te['test'],\n",
        "                       })\n",
        "dataset"
      ],
      "metadata": {
        "colab": {
          "base_uri": "https://localhost:8080/"
        },
        "id": "Kba9g8_uaS9x",
        "outputId": "ae1215c9-5b77-4f6e-95b0-cfbe6c2375a4"
      },
      "execution_count": 5,
      "outputs": [
        {
          "output_type": "execute_result",
          "data": {
            "text/plain": [
              "DatasetDict({\n",
              "    train: Dataset({\n",
              "        features: ['review_id', 'content', 'general', 'quality', 'service', 'equipment', 'food', 'location', 'Idx', 'labels'],\n",
              "        num_rows: 7221\n",
              "    })\n",
              "    validate: Dataset({\n",
              "        features: ['review_id', 'content', 'general', 'quality', 'service', 'equipment', 'food', 'location', 'Idx', 'labels'],\n",
              "        num_rows: 2407\n",
              "    })\n",
              "    test: Dataset({\n",
              "        features: ['review_id', 'content', 'general', 'quality', 'service', 'equipment', 'food', 'location', 'Idx', 'labels'],\n",
              "        num_rows: 2408\n",
              "    })\n",
              "})"
            ]
          },
          "metadata": {},
          "execution_count": 5
        }
      ]
    },
    {
      "cell_type": "code",
      "source": [
        "X_col = 'content'\n",
        "y_col = 'labels'"
      ],
      "metadata": {
        "id": "lrbT3uZdJz1W"
      },
      "execution_count": 6,
      "outputs": []
    },
    {
      "cell_type": "markdown",
      "source": [
        "# Tokenization\n",
        "\n",
        "Буду использовать базовый токенизатор и модель для русских тестов от DeepPavlov"
      ],
      "metadata": {
        "id": "jT4TPNEDYqD8"
      }
    },
    {
      "cell_type": "code",
      "source": [
        "tokenizer = AutoTokenizer.from_pretrained(\"DeepPavlov/rubert-base-cased\")"
      ],
      "metadata": {
        "id": "XDfzsrmNeZaZ"
      },
      "execution_count": 7,
      "outputs": []
    },
    {
      "cell_type": "code",
      "source": [
        "%%time\n",
        "def tokenize_function(examples):\n",
        "    return tokenizer(examples[X_col], truncation=True, padding='max_length', max_length=512)\n",
        "\n",
        "tokenized_dataset = dataset.map(tokenize_function, batched=True)"
      ],
      "metadata": {
        "colab": {
          "base_uri": "https://localhost:8080/",
          "height": 150,
          "referenced_widgets": [
            "3b438ac7e98144b2af76608ef11fd4f6",
            "5f071056018b4ea5a1f57ac56d8d8d55",
            "066c5855b3e3410498aee7488f805923",
            "de44d7c5415d491d86866599d8165e60",
            "c9ef00b5d870443aa8fc2700645e53ac",
            "4616288826da44d1ae0ceb1dd87946a0",
            "66c9f46834534d3594c93d65b15712a3",
            "044221d85fc249aaa76d216cf56a8c28",
            "a0e2904d224c43bea05bf84b58c8784b",
            "9de8185e10104ebfa6321bf2e111d090",
            "eda66b714aaf478aa399433976dfce42",
            "dde248ac4ed24a3ea3ba6b2906682a8f",
            "c69fa5f9c7574e5a80d702bc7256f5a8",
            "77c5b94d6fbb481b86927e9ebb9fe176",
            "61372f21491b4eebb69ef6d29cb55fc0",
            "f62e7dc2e95442efb05e074f7d2a3456",
            "e2710d3c6a634ed79375b57adf7ad3d7",
            "fa6a6e70f2ca445898a6ac98e1b4f322",
            "ebd4322621bd4758a49526e1eac0e937",
            "97736c8d1e9647a0a0969d830f760290",
            "11818e372be14be3be5a6cb6846857c6",
            "c5240f61b2864a8da66866d75e54225b",
            "1a43f02d18e0449897af898c24db2f84",
            "ed41808101504c1a861dc6756dca604a",
            "dcaf098da4fa422296c2134097d015d1",
            "ded11bf009874803811740952d9a45fe",
            "083a31c133b74cc7bdbd4ab1db667b2c",
            "80caf32137144bedbc47eb72f8a0cc35",
            "9b987425a2c84eb39f49d8939e7e515a",
            "15ae6f86eed54301b581af30fda779ea",
            "ac8a88b4d5bd4311aaae5a11190a7337",
            "195bdb04c55c40d899ed522cfe53b87b",
            "0fefdd07c23c405d95db9756cae4913e"
          ]
        },
        "id": "UMG0q17sNc_K",
        "outputId": "c71f9d74-cd9d-4737-800e-8d84a8dfee80"
      },
      "execution_count": 8,
      "outputs": [
        {
          "output_type": "display_data",
          "data": {
            "text/plain": [
              "Map:   0%|          | 0/7221 [00:00<?, ? examples/s]"
            ],
            "application/vnd.jupyter.widget-view+json": {
              "version_major": 2,
              "version_minor": 0,
              "model_id": "3b438ac7e98144b2af76608ef11fd4f6"
            }
          },
          "metadata": {}
        },
        {
          "output_type": "display_data",
          "data": {
            "text/plain": [
              "Map:   0%|          | 0/2407 [00:00<?, ? examples/s]"
            ],
            "application/vnd.jupyter.widget-view+json": {
              "version_major": 2,
              "version_minor": 0,
              "model_id": "dde248ac4ed24a3ea3ba6b2906682a8f"
            }
          },
          "metadata": {}
        },
        {
          "output_type": "display_data",
          "data": {
            "text/plain": [
              "Map:   0%|          | 0/2408 [00:00<?, ? examples/s]"
            ],
            "application/vnd.jupyter.widget-view+json": {
              "version_major": 2,
              "version_minor": 0,
              "model_id": "1a43f02d18e0449897af898c24db2f84"
            }
          },
          "metadata": {}
        },
        {
          "output_type": "stream",
          "name": "stdout",
          "text": [
            "CPU times: user 26.1 s, sys: 347 ms, total: 26.4 s\n",
            "Wall time: 27.7 s\n"
          ]
        }
      ]
    },
    {
      "cell_type": "markdown",
      "source": [
        "# Load base model"
      ],
      "metadata": {
        "id": "Pb8Mt-4MYuUZ"
      }
    },
    {
      "cell_type": "code",
      "source": [
        "model = AutoModelForSequenceClassification.from_pretrained(\"DeepPavlov/rubert-base-cased\", num_labels=5)"
      ],
      "metadata": {
        "colab": {
          "base_uri": "https://localhost:8080/"
        },
        "id": "y2JFa6mmXjr3",
        "outputId": "63b2fa3f-e1a4-4b9b-de56-3901251f05c6"
      },
      "execution_count": 9,
      "outputs": [
        {
          "output_type": "stream",
          "name": "stderr",
          "text": [
            "Some weights of BertForSequenceClassification were not initialized from the model checkpoint at DeepPavlov/rubert-base-cased and are newly initialized: ['classifier.weight', 'classifier.bias']\n",
            "You should probably TRAIN this model on a down-stream task to be able to use it for predictions and inference.\n"
          ]
        }
      ]
    },
    {
      "cell_type": "markdown",
      "source": [
        "## Zero-shot predict\n",
        "\n",
        "Воспользуемся интерфесом трейнера с отключенным `do_train` для оценки zero-shot."
      ],
      "metadata": {
        "id": "vyBbV3WnYwZ7"
      }
    },
    {
      "cell_type": "code",
      "source": [
        "metric_acc = evaluate.load(\"accuracy\")\n",
        "metric_f1 = evaluate.load(\"f1\")"
      ],
      "metadata": {
        "id": "7bIO3fWxmsHd"
      },
      "execution_count": 10,
      "outputs": []
    },
    {
      "cell_type": "code",
      "source": [
        "def compute_metrics(eval_pred):\n",
        "    logits, labels = eval_pred\n",
        "    predictions = np.argmax(logits, axis=-1)\n",
        "    return {\n",
        "        'accuracy': metric_acc.compute(predictions=predictions, references=labels)['accuracy'],\n",
        "        'f1': metric_f1.compute(predictions=predictions, references=labels, average='weighted')['f1']\n",
        "    }\n",
        "\n",
        "\n",
        "def show_test_metrics():\n",
        "  training_args = TrainingArguments(\n",
        "      output_dir='./results_test',\n",
        "      per_device_eval_batch_size=128,\n",
        "      seed=SEED,\n",
        "      do_train=False,  # Только оцениваем, не учим (!!!)\n",
        "      do_eval=True,\n",
        "  )\n",
        "\n",
        "  trainer = Trainer(\n",
        "      model=model,\n",
        "      args=training_args,\n",
        "      compute_metrics=compute_metrics,\n",
        "      eval_dataset=tokenized_dataset['test'],  # Тестовый набор\n",
        "  )\n",
        "\n",
        "  results = trainer.evaluate()\n",
        "  pprint(results)\n",
        "\n",
        "show_test_metrics()"
      ],
      "metadata": {
        "colab": {
          "base_uri": "https://localhost:8080/",
          "height": 148
        },
        "id": "nhBrwd56ZocW",
        "outputId": "7f444404-1e50-4e1b-cc93-f2fc958b8048"
      },
      "execution_count": 11,
      "outputs": [
        {
          "output_type": "display_data",
          "data": {
            "text/plain": [
              "<IPython.core.display.HTML object>"
            ],
            "text/html": [
              "\n",
              "    <div>\n",
              "      \n",
              "      <progress value='19' max='19' style='width:300px; height:20px; vertical-align: middle;'></progress>\n",
              "      [19/19 01:14]\n",
              "    </div>\n",
              "    "
            ]
          },
          "metadata": {}
        },
        {
          "output_type": "stream",
          "name": "stdout",
          "text": [
            "{'eval_accuracy': 0.08388704318936877,\n",
            " 'eval_f1': 0.02620815866524628,\n",
            " 'eval_loss': 1.612776756286621,\n",
            " 'eval_runtime': 79.247,\n",
            " 'eval_samples_per_second': 30.386,\n",
            " 'eval_steps_per_second': 0.24}\n"
          ]
        }
      ]
    },
    {
      "cell_type": "markdown",
      "source": [
        "Что и следовало ожидать -- результат такой себе, давайте дообучим."
      ],
      "metadata": {
        "id": "uoRDklMIgdBV"
      }
    },
    {
      "cell_type": "markdown",
      "source": [
        "# Fine-tuning"
      ],
      "metadata": {
        "id": "TXWqf0Xye_bj"
      }
    },
    {
      "cell_type": "code",
      "source": [
        "EPOCH = 10\n",
        "\n",
        "training_args = TrainingArguments(\n",
        "    output_dir='./results_train',\n",
        "    num_train_epochs=EPOCH,\n",
        "    per_device_train_batch_size=16,\n",
        "    per_device_eval_batch_size=64,\n",
        "    warmup_steps=500,\n",
        "    weight_decay=0.01,\n",
        "    logging_dir='./logs',\n",
        "    logging_steps=1,\n",
        "    seed=SEED,\n",
        "    evaluation_strategy=\"epoch\",\n",
        "    save_strategy=\"epoch\",\n",
        "    load_best_model_at_end=True,\n",
        ")\n",
        "\n",
        "trainer = Trainer(\n",
        "    model=model,\n",
        "    args=training_args,\n",
        "    compute_metrics=compute_metrics,\n",
        "    train_dataset=tokenized_dataset[\"train\"],\n",
        "    eval_dataset=tokenized_dataset[\"validate\"],\n",
        ")\n",
        "\n",
        "trainer.train()"
      ],
      "metadata": {
        "colab": {
          "base_uri": "https://localhost:8080/",
          "height": 426
        },
        "id": "R6tedaHte-2E",
        "outputId": "e91ef460-539f-4a9f-d035-3b46b9258f3d"
      },
      "execution_count": 12,
      "outputs": [
        {
          "output_type": "display_data",
          "data": {
            "text/plain": [
              "<IPython.core.display.HTML object>"
            ],
            "text/html": [
              "\n",
              "    <div>\n",
              "      \n",
              "      <progress value='4520' max='4520' style='width:300px; height:20px; vertical-align: middle;'></progress>\n",
              "      [4520/4520 2:05:31, Epoch 10/10]\n",
              "    </div>\n",
              "    <table border=\"1\" class=\"dataframe\">\n",
              "  <thead>\n",
              " <tr style=\"text-align: left;\">\n",
              "      <th>Epoch</th>\n",
              "      <th>Training Loss</th>\n",
              "      <th>Validation Loss</th>\n",
              "      <th>Accuracy</th>\n",
              "      <th>F1</th>\n",
              "    </tr>\n",
              "  </thead>\n",
              "  <tbody>\n",
              "    <tr>\n",
              "      <td>1</td>\n",
              "      <td>0.639400</td>\n",
              "      <td>1.019086</td>\n",
              "      <td>0.611550</td>\n",
              "      <td>0.501540</td>\n",
              "    </tr>\n",
              "    <tr>\n",
              "      <td>2</td>\n",
              "      <td>0.685800</td>\n",
              "      <td>0.775166</td>\n",
              "      <td>0.678022</td>\n",
              "      <td>0.659060</td>\n",
              "    </tr>\n",
              "    <tr>\n",
              "      <td>3</td>\n",
              "      <td>1.868600</td>\n",
              "      <td>0.814983</td>\n",
              "      <td>0.668467</td>\n",
              "      <td>0.669218</td>\n",
              "    </tr>\n",
              "    <tr>\n",
              "      <td>4</td>\n",
              "      <td>0.232100</td>\n",
              "      <td>0.942347</td>\n",
              "      <td>0.684670</td>\n",
              "      <td>0.676464</td>\n",
              "    </tr>\n",
              "    <tr>\n",
              "      <td>5</td>\n",
              "      <td>1.278500</td>\n",
              "      <td>1.239033</td>\n",
              "      <td>0.645617</td>\n",
              "      <td>0.658562</td>\n",
              "    </tr>\n",
              "    <tr>\n",
              "      <td>6</td>\n",
              "      <td>0.005600</td>\n",
              "      <td>1.410862</td>\n",
              "      <td>0.657250</td>\n",
              "      <td>0.668746</td>\n",
              "    </tr>\n",
              "    <tr>\n",
              "      <td>7</td>\n",
              "      <td>0.617200</td>\n",
              "      <td>2.085940</td>\n",
              "      <td>0.613627</td>\n",
              "      <td>0.636439</td>\n",
              "    </tr>\n",
              "    <tr>\n",
              "      <td>8</td>\n",
              "      <td>0.003900</td>\n",
              "      <td>2.241995</td>\n",
              "      <td>0.663066</td>\n",
              "      <td>0.674142</td>\n",
              "    </tr>\n",
              "    <tr>\n",
              "      <td>9</td>\n",
              "      <td>0.000400</td>\n",
              "      <td>2.558499</td>\n",
              "      <td>0.660573</td>\n",
              "      <td>0.672145</td>\n",
              "    </tr>\n",
              "    <tr>\n",
              "      <td>10</td>\n",
              "      <td>0.000400</td>\n",
              "      <td>2.688239</td>\n",
              "      <td>0.651849</td>\n",
              "      <td>0.667214</td>\n",
              "    </tr>\n",
              "  </tbody>\n",
              "</table><p>"
            ]
          },
          "metadata": {}
        },
        {
          "output_type": "execute_result",
          "data": {
            "text/plain": [
              "TrainOutput(global_step=4520, training_loss=0.4035649423220399, metrics={'train_runtime': 7533.2207, 'train_samples_per_second': 9.586, 'train_steps_per_second': 0.6, 'total_flos': 1.899976106732544e+16, 'train_loss': 0.4035649423220399, 'epoch': 10.0})"
            ]
          },
          "metadata": {},
          "execution_count": 12
        }
      ]
    },
    {
      "cell_type": "code",
      "source": [
        "show_test_metrics()"
      ],
      "metadata": {
        "colab": {
          "base_uri": "https://localhost:8080/",
          "height": 148
        },
        "id": "p-SzYWz9jWHT",
        "outputId": "7977781c-4caa-47fe-a3ab-4b01cf0e7bcc"
      },
      "execution_count": 13,
      "outputs": [
        {
          "output_type": "display_data",
          "data": {
            "text/plain": [
              "<IPython.core.display.HTML object>"
            ],
            "text/html": [
              "\n",
              "    <div>\n",
              "      \n",
              "      <progress value='19' max='19' style='width:300px; height:20px; vertical-align: middle;'></progress>\n",
              "      [19/19 01:14]\n",
              "    </div>\n",
              "    "
            ]
          },
          "metadata": {}
        },
        {
          "output_type": "stream",
          "name": "stdout",
          "text": [
            "{'eval_accuracy': 0.6557308970099668,\n",
            " 'eval_f1': 0.6426035707164227,\n",
            " 'eval_loss': 0.819760262966156,\n",
            " 'eval_runtime': 78.934,\n",
            " 'eval_samples_per_second': 30.507,\n",
            " 'eval_steps_per_second': 0.241}\n"
          ]
        }
      ]
    },
    {
      "cell_type": "markdown",
      "source": [
        "# Выводы\n",
        "\n",
        "Буквально на второй эпохе скор на валидэйте поднялся до (`acc~=0.6`, `acc~=0.6`), от которого сильно далеко не улучшился уже. Единственный мой вопрос: в какой-то момент видно по loss на тесте и трэйне, что модель пошла в переобучение. Как этого избежать, просто стопить, или есть более умные методы?"
      ],
      "metadata": {
        "id": "PBobWiuJQVrQ"
      }
    },
    {
      "cell_type": "code",
      "source": [],
      "metadata": {
        "id": "b2swr_m2jhXs"
      },
      "execution_count": 13,
      "outputs": []
    }
  ]
}