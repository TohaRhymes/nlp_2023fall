{
 "cells": [
  {
   "cell_type": "markdown",
   "source": [
    "## Задание 2 - 10 баллов\n",
    "\n",
    "- Загрузить набор данных [Spam Or Not Spam](https://www.kaggle.com/datasets/ozlerhakan/spam-or-not-spam-dataset)\n",
    "- Попробовать и сравнить различные способы векторизации: **3 балла**\n",
    "  - `sklearn.feature_extraction.text.CountVectorizer`\n",
    "  - `sklearn.feature_extraction.text.TfidfVectorizer`\n",
    "- Обучить на полученных векторах модели, с использованием кросс-валидации и подбором гиперпараметров: **3 балла**\n",
    "  - `sklearn.tree.DecisionTreeClassifier`\n",
    "  - `sklearn.linear_model.LogisticRegression`\n",
    "  - Naive Bayes\n",
    "- Сравнить качество обученных моделей на отложенной выборке - **1 балл**\n",
    "\n",
    "- Обеспечена воспроизводимость решения: зафиксированы random_state, ноутбук воспроизводится от начала до конца без ошибок - **2 балла**\n",
    "\n",
    "- Соблюден code style на уровне pep8 и [On writing clean Jupyter notebooks](https://ploomber.io/blog/clean-nbs/)  - **1 балл**Для сдачи ДЗ - приложите ссылку на PR (Pull Request) из ветки hw_1 в ветку main в вашем приватном репозитории на github.com\n",
    "\n",
    "\n",
    "\n",
    "## Подготовка\n",
    "```\n",
    ".\n",
    "├── data\n",
    "├── notebooks\n",
    "│   └── hw_2.ipynb\n",
    "├── src\n",
    "│ └── utils\n",
    "│    ├── __init__.py\n",
    "│    └── stop_words.py\n",
    "└── setup.py\n",
    "```\n",
    "\n",
    "Ноутбук должен располагаться в директории `notebooks`, директория `data` создана для данных, должны присутствовать `src/utils/*` и `setup.py` для загрузки кастомных стопслов.\n",
    "\n",
    "\n",
    "## Все библиотеки и константы\n",
    "\n",
    "Устанавливаем модуль из `setup.py`"
   ],
   "metadata": {
    "collapsed": false
   },
   "id": "9e9ee7217aa0bc1d"
  },
  {
   "cell_type": "code",
   "execution_count": 2,
   "outputs": [],
   "source": [
    "! pip install --editable ../"
   ],
   "metadata": {
    "collapsed": false,
    "ExecuteTime": {
     "end_time": "2023-10-07T17:14:22.901949991Z",
     "start_time": "2023-10-07T17:14:22.846805395Z"
    }
   },
   "id": "ed30c5a078eb6913"
  },
  {
   "cell_type": "markdown",
   "source": [
    "Импортируем, добавляем константы, функции"
   ],
   "metadata": {
    "collapsed": false
   },
   "id": "3a8e761e2dd894bd"
  },
  {
   "cell_type": "code",
   "execution_count": 45,
   "outputs": [],
   "source": [
    "import sys\n",
    "sys.path.append('../')\n",
    "from utils.stop_words import SPAM_STOP_WORDS\n",
    "\n",
    "import pandas as pd\n",
    "import numpy as np\n",
    "\n",
    "from sklearn.model_selection import train_test_split\n",
    "from sklearn.feature_extraction.text import CountVectorizer, TfidfVectorizer\n",
    "from sklearn.tree import DecisionTreeClassifier\n",
    "from sklearn.linear_model import LogisticRegression\n",
    "from sklearn.naive_bayes import ComplementNB, MultinomialNB\n",
    "from sklearn.metrics import classification_report\n",
    "from sklearn.experimental import enable_halving_search_cv\n",
    "from sklearn.model_selection import HalvingGridSearchCV\n",
    "from sklearn.pipeline import Pipeline\n",
    "\n",
    "SEED = 566\n",
    "# data dir\n",
    "DATA_DIR = \"../data\"\n",
    "\n",
    "DATA = \"../data/spam_or_not_spam.csv\"\n",
    "\n",
    "\n",
    "def classification_report_pd(y_test, y_pred):\n",
    "    report = pd.DataFrame(classification_report(y_true=y_test, y_pred=y_pred, output_dict=True)).transpose()\n",
    "    report.support = report.support.astype(int)\n",
    "    report.loc['accuracy', 'support'] = report.loc['macro avg', 'support']\n",
    "    report.loc['accuracy', 'precision'] = np.nan\n",
    "    report.loc['accuracy', 'recall'] = np.nan\n",
    "    return report\n"
   ],
   "metadata": {
    "collapsed": false,
    "ExecuteTime": {
     "end_time": "2023-10-08T13:47:18.978334636Z",
     "start_time": "2023-10-08T13:47:18.935056029Z"
    }
   },
   "id": "99f4bdc592d51b34"
  },
  {
   "cell_type": "markdown",
   "source": [
    "## Предварительная работа с данными данные\n",
    "\n",
    "### Скачивание\n",
    "(Не забудьте раскоментить)"
   ],
   "metadata": {
    "collapsed": false
   },
   "id": "987e623f679767b0"
  },
  {
   "cell_type": "code",
   "execution_count": 2,
   "outputs": [],
   "source": [
    "!kaggle datasets download -d ozlerhakan/spam-or-not-spam-dataset\n",
    "!mv ./spam-or-not-spam-dataset.zip ../data/\n",
    "!unzip ../data/spam-or-not-spam-dataset.zip\n",
    "!mv ./spam_or_not_spam.csv ../data/"
   ],
   "metadata": {
    "collapsed": false,
    "ExecuteTime": {
     "end_time": "2023-10-08T11:24:30.054162047Z",
     "start_time": "2023-10-08T11:24:29.998292375Z"
    }
   },
   "id": "55533532bac11766"
  },
  {
   "cell_type": "markdown",
   "source": [
    "### Изучим данные"
   ],
   "metadata": {
    "collapsed": false
   },
   "id": "1b8b1eca0e27a336"
  },
  {
   "cell_type": "code",
   "execution_count": 3,
   "outputs": [
    {
     "data": {
      "text/plain": "                                               email  label\n0   date wed NUMBER aug NUMBER NUMBER NUMBER NUMB...      0\n1  martin a posted tassos papadopoulos the greek ...      0\n2  man threatens explosion in moscow thursday aug...      0\n3  klez the virus that won t die already the most...      0\n4   in adding cream to spaghetti carbonara which ...      0",
      "text/html": "<div>\n<style scoped>\n    .dataframe tbody tr th:only-of-type {\n        vertical-align: middle;\n    }\n\n    .dataframe tbody tr th {\n        vertical-align: top;\n    }\n\n    .dataframe thead th {\n        text-align: right;\n    }\n</style>\n<table border=\"1\" class=\"dataframe\">\n  <thead>\n    <tr style=\"text-align: right;\">\n      <th></th>\n      <th>email</th>\n      <th>label</th>\n    </tr>\n  </thead>\n  <tbody>\n    <tr>\n      <th>0</th>\n      <td>date wed NUMBER aug NUMBER NUMBER NUMBER NUMB...</td>\n      <td>0</td>\n    </tr>\n    <tr>\n      <th>1</th>\n      <td>martin a posted tassos papadopoulos the greek ...</td>\n      <td>0</td>\n    </tr>\n    <tr>\n      <th>2</th>\n      <td>man threatens explosion in moscow thursday aug...</td>\n      <td>0</td>\n    </tr>\n    <tr>\n      <th>3</th>\n      <td>klez the virus that won t die already the most...</td>\n      <td>0</td>\n    </tr>\n    <tr>\n      <th>4</th>\n      <td>in adding cream to spaghetti carbonara which ...</td>\n      <td>0</td>\n    </tr>\n  </tbody>\n</table>\n</div>"
     },
     "execution_count": 3,
     "metadata": {},
     "output_type": "execute_result"
    }
   ],
   "source": [
    "data = pd.read_csv(DATA)\n",
    "data.head()"
   ],
   "metadata": {
    "collapsed": false,
    "ExecuteTime": {
     "end_time": "2023-10-08T11:24:31.781522784Z",
     "start_time": "2023-10-08T11:24:31.728441823Z"
    }
   },
   "id": "75da3a2586611eef"
  },
  {
   "cell_type": "code",
   "execution_count": 4,
   "outputs": [
    {
     "name": "stdout",
     "output_type": "stream",
     "text": [
      "<class 'pandas.core.frame.DataFrame'>\n",
      "RangeIndex: 3000 entries, 0 to 2999\n",
      "Data columns (total 2 columns):\n",
      " #   Column  Non-Null Count  Dtype \n",
      "---  ------  --------------  ----- \n",
      " 0   email   2999 non-null   object\n",
      " 1   label   3000 non-null   int64 \n",
      "dtypes: int64(1), object(1)\n",
      "memory usage: 47.0+ KB\n"
     ]
    }
   ],
   "source": [
    "data.info()"
   ],
   "metadata": {
    "collapsed": false,
    "ExecuteTime": {
     "end_time": "2023-10-08T11:24:32.611442382Z",
     "start_time": "2023-10-08T11:24:32.575060991Z"
    }
   },
   "id": "20c3972f1f94b025"
  },
  {
   "cell_type": "markdown",
   "source": [
    "В одном значении майлов есть Null -- заменю на пустую строку."
   ],
   "metadata": {
    "collapsed": false
   },
   "id": "997f4c1dd7adb17d"
  },
  {
   "cell_type": "code",
   "execution_count": 5,
   "outputs": [],
   "source": [
    "data['email'] = data['email'].fillna('')"
   ],
   "metadata": {
    "collapsed": false,
    "ExecuteTime": {
     "end_time": "2023-10-08T11:24:34.076728572Z",
     "start_time": "2023-10-08T11:24:34.025778087Z"
    }
   },
   "id": "8e08841a6837f69d"
  },
  {
   "cell_type": "code",
   "execution_count": 6,
   "outputs": [
    {
     "data": {
      "text/plain": "label\n0    2500\n1     500\nName: count, dtype: int64"
     },
     "execution_count": 6,
     "metadata": {},
     "output_type": "execute_result"
    }
   ],
   "source": [
    "data.label.value_counts()"
   ],
   "metadata": {
    "collapsed": false,
    "ExecuteTime": {
     "end_time": "2023-10-08T11:24:34.564909991Z",
     "start_time": "2023-10-08T11:24:34.533635205Z"
    }
   },
   "id": "aae154301ec09786"
  },
  {
   "cell_type": "markdown",
   "source": [
    "20% -- спам, достаточно хороший датасет.\n",
    "\n",
    "Более того, по тексту кажется, что он уже очищен (нет пунктуации, больших букв, грамматики). На каггле также сказано: `all the numbers and URLs were converted to strings as NUMBER and URL respectively` -- это хорошо, они не удалятся векторайзером, и могут быть значимы при детекции спама.\n",
    "\n",
    "\n",
    "Поэтому попробую работать без очистки от стоп слов: минимальная предобработка сделана, а, как кажется, что очистка от стоп-слов может только навредить.\n",
    "\n",
    "### Train-Test split"
   ],
   "metadata": {
    "collapsed": false
   },
   "id": "e801c58d6da61a8e"
  },
  {
   "cell_type": "code",
   "execution_count": 54,
   "outputs": [
    {
     "data": {
      "text/plain": "label\n0    2000\n1     400\nName: count, dtype: int64"
     },
     "metadata": {},
     "output_type": "display_data"
    },
    {
     "data": {
      "text/plain": "label\n0    500\n1    100\nName: count, dtype: int64"
     },
     "metadata": {},
     "output_type": "display_data"
    }
   ],
   "source": [
    "X, y = data.email, data.label\n",
    "\n",
    "X_train, X_test, y_train, y_test = train_test_split(X,\n",
    "                                                    y,\n",
    "                                                    test_size=0.2,\n",
    "                                                    random_state=SEED,\n",
    "                                                    stratify=y)\n",
    "\n",
    "display(y_train.value_counts())\n",
    "display(y_test.value_counts())"
   ],
   "metadata": {
    "collapsed": false,
    "ExecuteTime": {
     "end_time": "2023-10-08T14:07:15.353537331Z",
     "start_time": "2023-10-08T14:07:15.295966227Z"
    }
   },
   "id": "32f22e23cbf52d7d"
  },
  {
   "cell_type": "markdown",
   "source": [
    "##  Vectorization\n",
    "\n",
    "\n",
    "### CountVectorizer\n",
    "Я решил попробовать кастомизировать список стоп слов, и убрал оттуда те, которые, как мне кажется, могут быть связаны со спамом: all, already, become(s), call, interest, seem(s), top, you(r/self/...)\n",
    "\n",
    "Обновленный список -- в `utils/_stop_words.py` (импортировал в начале)"
   ],
   "metadata": {
    "collapsed": false
   },
   "id": "f1f7f05575df1dc8"
  },
  {
   "cell_type": "code",
   "execution_count": 8,
   "outputs": [],
   "source": [
    "vectorizer_count = CountVectorizer(max_df=0.8,\n",
    "                                   min_df=0.001,\n",
    "                                   stop_words=list(SPAM_STOP_WORDS))\n",
    "X_train_vectorized_count = vectorizer_count.fit_transform(X_train)\n",
    "X_test_vectorized_count = vectorizer_count.transform(X_test)"
   ],
   "metadata": {
    "collapsed": false,
    "ExecuteTime": {
     "end_time": "2023-10-08T11:24:44.370792694Z",
     "start_time": "2023-10-08T11:24:44.095766905Z"
    }
   },
   "id": "fe47f999c2022b70"
  },
  {
   "cell_type": "markdown",
   "source": [
    "### Tf-idf vectorizer"
   ],
   "metadata": {
    "collapsed": false
   },
   "id": "a41b5f63a82ba354"
  },
  {
   "cell_type": "code",
   "execution_count": 9,
   "outputs": [],
   "source": [
    "vectorizer_tfidf = TfidfVectorizer(max_df=0.8,\n",
    "                                   min_df=0.001,\n",
    "                                   stop_words=list(SPAM_STOP_WORDS))\n",
    "X_train_vectorized_tfidf = vectorizer_tfidf.fit_transform(X_train)\n",
    "X_test_vectorized_tfidf = vectorizer_tfidf.transform(X_test)"
   ],
   "metadata": {
    "collapsed": false,
    "ExecuteTime": {
     "end_time": "2023-10-08T11:24:48.161885657Z",
     "start_time": "2023-10-08T11:24:47.875319580Z"
    }
   },
   "id": "26d8a5026f49928a"
  },
  {
   "cell_type": "markdown",
   "source": [
    "## Проверка и анализ"
   ],
   "metadata": {
    "collapsed": false
   },
   "id": "d418d951ce56aeba"
  },
  {
   "cell_type": "code",
   "execution_count": 10,
   "outputs": [
    {
     "data": {
      "text/plain": "          document      term  count\n20861998      2069    states    119\n21488709      2132       alb    119\n23171551      2298       you    109\n2449127        242       you    105\n9312926        923       you    105\n...            ...       ...    ...\n5898568        585       des     33\n3720566        369  checking     33\n19459955      1930    report     33\n19462482      1930      your     31\n6389904        633       won     31\n\n[100 rows x 3 columns]",
      "text/html": "<div>\n<style scoped>\n    .dataframe tbody tr th:only-of-type {\n        vertical-align: middle;\n    }\n\n    .dataframe tbody tr th {\n        vertical-align: top;\n    }\n\n    .dataframe thead th {\n        text-align: right;\n    }\n</style>\n<table border=\"1\" class=\"dataframe\">\n  <thead>\n    <tr style=\"text-align: right;\">\n      <th></th>\n      <th>document</th>\n      <th>term</th>\n      <th>count</th>\n    </tr>\n  </thead>\n  <tbody>\n    <tr>\n      <th>20861998</th>\n      <td>2069</td>\n      <td>states</td>\n      <td>119</td>\n    </tr>\n    <tr>\n      <th>21488709</th>\n      <td>2132</td>\n      <td>alb</td>\n      <td>119</td>\n    </tr>\n    <tr>\n      <th>23171551</th>\n      <td>2298</td>\n      <td>you</td>\n      <td>109</td>\n    </tr>\n    <tr>\n      <th>2449127</th>\n      <td>242</td>\n      <td>you</td>\n      <td>105</td>\n    </tr>\n    <tr>\n      <th>9312926</th>\n      <td>923</td>\n      <td>you</td>\n      <td>105</td>\n    </tr>\n    <tr>\n      <th>...</th>\n      <td>...</td>\n      <td>...</td>\n      <td>...</td>\n    </tr>\n    <tr>\n      <th>5898568</th>\n      <td>585</td>\n      <td>des</td>\n      <td>33</td>\n    </tr>\n    <tr>\n      <th>3720566</th>\n      <td>369</td>\n      <td>checking</td>\n      <td>33</td>\n    </tr>\n    <tr>\n      <th>19459955</th>\n      <td>1930</td>\n      <td>report</td>\n      <td>33</td>\n    </tr>\n    <tr>\n      <th>19462482</th>\n      <td>1930</td>\n      <td>your</td>\n      <td>31</td>\n    </tr>\n    <tr>\n      <th>6389904</th>\n      <td>633</td>\n      <td>won</td>\n      <td>31</td>\n    </tr>\n  </tbody>\n</table>\n<p>100 rows × 3 columns</p>\n</div>"
     },
     "execution_count": 10,
     "metadata": {},
     "output_type": "execute_result"
    }
   ],
   "source": [
    "count_df = pd.DataFrame(X_train_vectorized_count.toarray(), columns=vectorizer_count.get_feature_names_out())\n",
    "count_df = count_df.stack().reset_index().rename(\n",
    "    columns={0: 'count', 'level_0': 'document', 'level_1': 'term', 'level_2': 'term'})\n",
    "count_df = count_df.sort_values(by=['document', 'count'], ascending=[True, False]).groupby(['document']).head()\n",
    "count_df.sort_values(by='count', ascending=False).head(100)"
   ],
   "metadata": {
    "collapsed": false,
    "ExecuteTime": {
     "end_time": "2023-10-08T11:24:55.495353915Z",
     "start_time": "2023-10-08T11:24:50.960652936Z"
    }
   },
   "id": "b06f9e2dec8b47de"
  },
  {
   "cell_type": "markdown",
   "source": [
    "Кажется, не так информативно, давайте посмотрим на `tf_idf`"
   ],
   "metadata": {
    "collapsed": false
   },
   "id": "d8034dd31d01dcad"
  },
  {
   "cell_type": "code",
   "execution_count": 11,
   "outputs": [
    {
     "data": {
      "text/plain": "          document       term     tfidf\n8390011        832  hyperlink  1.000000\n4892598        485  hyperlink  1.000000\n5759392        571  hyperlink  0.997259\n9503282        942        tab  0.966686\n21488709      2132        alb  0.963996\n...            ...        ...       ...\n7464232        740         mt  0.708583\n10623006      1053      wheel  0.707915\n20019513      1986     domain  0.707903\n22774368      2259       news  0.707729\n17134113      1699    wnumber  0.707441\n\n[100 rows x 3 columns]",
      "text/html": "<div>\n<style scoped>\n    .dataframe tbody tr th:only-of-type {\n        vertical-align: middle;\n    }\n\n    .dataframe tbody tr th {\n        vertical-align: top;\n    }\n\n    .dataframe thead th {\n        text-align: right;\n    }\n</style>\n<table border=\"1\" class=\"dataframe\">\n  <thead>\n    <tr style=\"text-align: right;\">\n      <th></th>\n      <th>document</th>\n      <th>term</th>\n      <th>tfidf</th>\n    </tr>\n  </thead>\n  <tbody>\n    <tr>\n      <th>8390011</th>\n      <td>832</td>\n      <td>hyperlink</td>\n      <td>1.000000</td>\n    </tr>\n    <tr>\n      <th>4892598</th>\n      <td>485</td>\n      <td>hyperlink</td>\n      <td>1.000000</td>\n    </tr>\n    <tr>\n      <th>5759392</th>\n      <td>571</td>\n      <td>hyperlink</td>\n      <td>0.997259</td>\n    </tr>\n    <tr>\n      <th>9503282</th>\n      <td>942</td>\n      <td>tab</td>\n      <td>0.966686</td>\n    </tr>\n    <tr>\n      <th>21488709</th>\n      <td>2132</td>\n      <td>alb</td>\n      <td>0.963996</td>\n    </tr>\n    <tr>\n      <th>...</th>\n      <td>...</td>\n      <td>...</td>\n      <td>...</td>\n    </tr>\n    <tr>\n      <th>7464232</th>\n      <td>740</td>\n      <td>mt</td>\n      <td>0.708583</td>\n    </tr>\n    <tr>\n      <th>10623006</th>\n      <td>1053</td>\n      <td>wheel</td>\n      <td>0.707915</td>\n    </tr>\n    <tr>\n      <th>20019513</th>\n      <td>1986</td>\n      <td>domain</td>\n      <td>0.707903</td>\n    </tr>\n    <tr>\n      <th>22774368</th>\n      <td>2259</td>\n      <td>news</td>\n      <td>0.707729</td>\n    </tr>\n    <tr>\n      <th>17134113</th>\n      <td>1699</td>\n      <td>wnumber</td>\n      <td>0.707441</td>\n    </tr>\n  </tbody>\n</table>\n<p>100 rows × 3 columns</p>\n</div>"
     },
     "execution_count": 11,
     "metadata": {},
     "output_type": "execute_result"
    }
   ],
   "source": [
    "tfidf_df = pd.DataFrame(X_train_vectorized_tfidf.toarray(), columns=vectorizer_tfidf.get_feature_names_out())\n",
    "tfidf_df = tfidf_df.stack().reset_index().rename(\n",
    "    columns={0: 'tfidf', 'level_0': 'document', 'level_1': 'term', 'level_2': 'term'})\n",
    "tfidf_df = tfidf_df.sort_values(by=['document', 'tfidf'], ascending=[True, False]).groupby(['document']).head()\n",
    "tfidf_df.sort_values(by='tfidf', ascending=False).head(100)"
   ],
   "metadata": {
    "collapsed": false,
    "ExecuteTime": {
     "end_time": "2023-10-08T11:24:58.762205452Z",
     "start_time": "2023-10-08T11:24:55.473870646Z"
    }
   },
   "id": "96e128d95944bf5c"
  },
  {
   "cell_type": "markdown",
   "source": [
    "Интересно! У нас очень много слов, получившихся из-за плохого парсинга html: `hyperlink`, `bm`, `numbertnumber` (скорее всего это было `number ? T : number`), `tab`, `alb`, `supplied`, `img`, `msgs`, `xml` +  удаленный `you` из списка стоп слов лучше бы вернуть:"
   ],
   "metadata": {
    "collapsed": false
   },
   "id": "50c1f9e1c320c41e"
  },
  {
   "cell_type": "code",
   "execution_count": 12,
   "outputs": [
    {
     "data": {
      "text/plain": "309"
     },
     "execution_count": 12,
     "metadata": {},
     "output_type": "execute_result"
    }
   ],
   "source": [
    "extra_stops = {\"hyperlink\", \"bm\", \"numbertnumber\", \"tab\", \"alb\", \"supplied\", \"img\", \"you\", \"xml\", \"msgs\"}\n",
    "\n",
    "FINAL_STOP_WORDS = list(SPAM_STOP_WORDS | extra_stops)\n",
    "len(FINAL_STOP_WORDS)"
   ],
   "metadata": {
    "collapsed": false,
    "ExecuteTime": {
     "end_time": "2023-10-08T11:24:58.780077999Z",
     "start_time": "2023-10-08T11:24:58.754149801Z"
    }
   },
   "id": "a5676c903ea4683b"
  },
  {
   "cell_type": "markdown",
   "source": [
    "## Обучение моделей\n",
    "\n",
    "Создадим 8 Пайплайнов  и 8 сеток параметров, и пройдемся с помощью халф-гридсерча"
   ],
   "metadata": {
    "collapsed": false
   },
   "id": "97be1a10e8f1bb28"
  },
  {
   "cell_type": "code",
   "execution_count": 13,
   "outputs": [],
   "source": [
    "## Grids\n",
    "\n",
    "grid_tf = {\"tfidf__max_df\": np.linspace(0.3, 0.8, 6),\n",
    "           \"tfidf__min_df\": [0.0, 0.002, 0.005],\n",
    "           \"tfidf__ngram_range\": ((1, 1), (1, 2)),\n",
    "           \"tfidf__stop_words\": [FINAL_STOP_WORDS, ],  # list of 1 element\n",
    "           }\n",
    "grid_count = {\"counter__max_df\": np.linspace(0.3, 0.8, 6),\n",
    "              \"counter__min_df\": [0.0, 0.002, 0.005],\n",
    "              \"counter__ngram_range\": ((1, 1), (1, 2)),\n",
    "              \"counter__stop_words\": [FINAL_STOP_WORDS, ],  # list of 1 element\n",
    "              }\n",
    "grid_lr = {\"lr__C\": np.linspace(0.1, 1, 10),\n",
    "           \"lr__penalty\": (\"l1\", \"l2\"),\n",
    "           \"lr__random_state\": [SEED, ]}\n",
    "grid_dt = {\"dt__criterion\": (\"gini\", \"entropy\"),\n",
    "           \"dt__max_depth\": [5, 10, 15],\n",
    "           \"dt__min_samples_split\": [1, 5, 25],\n",
    "           \"dt__random_state\": [SEED, ]}\n",
    "grid_mnb = {\"mnb__alpha\": [0.01, 0.1, 1.0], }\n",
    "grid_cnb = {\"cnb__alpha\": [0.01, 0.1, 1.0],\n",
    "            \"cnb__norm\": [True, False], }\n",
    "\n",
    "## LR models\n",
    "pipe_count_lr = Pipeline(\n",
    "    steps=[\n",
    "        ('counter', CountVectorizer()),\n",
    "        ('lr', LogisticRegression())\n",
    "    ]\n",
    ")\n",
    "pipe_tf_lr = Pipeline(\n",
    "    steps=[\n",
    "        ('tfidf', TfidfVectorizer()),\n",
    "        ('lr', LogisticRegression())\n",
    "    ]\n",
    ")\n",
    "grid_count_lr = {**grid_count, **grid_lr}\n",
    "grid_tf_lr = {**grid_tf, **grid_lr}\n",
    "\n",
    "## DT models\n",
    "pipe_count_dt = Pipeline(\n",
    "    steps=[\n",
    "        ('counter', CountVectorizer()),\n",
    "        ('dt', DecisionTreeClassifier())\n",
    "    ]\n",
    ")\n",
    "pipe_tf_dt = Pipeline(\n",
    "    steps=[\n",
    "        ('tfidf', TfidfVectorizer()),\n",
    "        ('dt', DecisionTreeClassifier())\n",
    "    ]\n",
    ")\n",
    "grid_count_dt = {**grid_count, **grid_dt}\n",
    "grid_tf_dt = {**grid_tf, **grid_dt}\n",
    "\n",
    "## NB multinomial\n",
    "pipe_count_mnb = Pipeline(\n",
    "    steps=[\n",
    "        ('counter', CountVectorizer()),\n",
    "        ('mnb', MultinomialNB())\n",
    "    ]\n",
    ")\n",
    "pipe_tf_mnb = Pipeline(\n",
    "    steps=[\n",
    "        ('tfidf', TfidfVectorizer()),\n",
    "        ('mnb', MultinomialNB())\n",
    "    ]\n",
    ")\n",
    "grid_count_mnb = {**grid_count, **grid_mnb}\n",
    "grid_tf_mnb = {**grid_tf, **grid_mnb}\n",
    "## NB coplement\n",
    "pipe_count_cnb = Pipeline(\n",
    "    steps=[\n",
    "        ('counter', CountVectorizer()),\n",
    "        ('cnb', ComplementNB())\n",
    "    ]\n",
    ")\n",
    "pipe_tf_cnb = Pipeline(\n",
    "    steps=[\n",
    "        ('tfidf', TfidfVectorizer()),\n",
    "        ('cnb', ComplementNB())\n",
    "    ]\n",
    ")\n",
    "grid_count_cnb = {**grid_count, **grid_cnb}\n",
    "grid_tf_cnb = {**grid_tf, **grid_cnb}\n",
    "\n",
    "pipes = {\"count_lr\": (pipe_count_lr, grid_count_lr),\n",
    "         \"tf_lr\": (pipe_tf_lr, grid_tf_lr),\n",
    "         \"count_dt\": (pipe_count_dt, grid_count_dt),\n",
    "         \"tf_dt\": (pipe_tf_dt, grid_tf_dt),\n",
    "         \"count_mnb\": (pipe_count_mnb, grid_count_mnb),\n",
    "         \"tf_mnb\": (pipe_tf_mnb, grid_tf_mnb),\n",
    "         \"count_cnb\": (pipe_count_cnb, grid_count_cnb),\n",
    "         \"tf_cnb\": (pipe_tf_cnb, grid_tf_cnb), }\n"
   ],
   "metadata": {
    "collapsed": false,
    "ExecuteTime": {
     "end_time": "2023-10-08T11:27:30.942157016Z",
     "start_time": "2023-10-08T11:27:30.892589329Z"
    }
   },
   "id": "51c538accb99abb3"
  },
  {
   "cell_type": "code",
   "execution_count": 53,
   "outputs": [],
   "source": [
    "grid_searches = dict()\n",
    "for pipe_name in pipes:\n",
    "    pipe, parameter_grid = pipes[pipe_name]\n",
    "\n",
    "    grid_search = HalvingGridSearchCV(\n",
    "        pipe,\n",
    "        param_grid=parameter_grid,\n",
    "        n_jobs=-1,\n",
    "        verbose=1,\n",
    "        cv=5,\n",
    "        scoring='accuracy',\n",
    "        random_state=SEED,\n",
    "    )\n",
    "    grid_search.fit(X_train, y_train)\n",
    "    grid_searches[pipe_name] = grid_search"
   ],
   "metadata": {
    "collapsed": false,
    "ExecuteTime": {
     "end_time": "2023-10-08T14:06:03.496778165Z",
     "start_time": "2023-10-08T14:06:03.427614587Z"
    }
   },
   "id": "f77a552e52e0a503"
  },
  {
   "cell_type": "code",
   "execution_count": 16,
   "outputs": [],
   "source": [
    "estimators = dict()\n",
    "for grid_search_name in grid_searches:\n",
    "    estimators[grid_search_name] = grid_searches[grid_search_name].best_estimator_"
   ],
   "metadata": {
    "collapsed": false,
    "ExecuteTime": {
     "end_time": "2023-10-08T11:30:53.376282011Z",
     "start_time": "2023-10-08T11:30:53.371135023Z"
    }
   },
   "id": "b508a6f7c949121f"
  },
  {
   "cell_type": "code",
   "execution_count": 47,
   "outputs": [
    {
     "name": "stdout",
     "output_type": "stream",
     "text": [
      "count_lr\n"
     ]
    },
    {
     "data": {
      "text/plain": "              precision    recall  f1-score  support\n0              0.982283  0.998000  0.990079      500\n1              0.989130  0.910000  0.947917      100\naccuracy            NaN       NaN  0.983333      600\nmacro avg      0.985707  0.954000  0.968998      600\nweighted avg   0.983425  0.983333  0.983052      600",
      "text/html": "<div>\n<style scoped>\n    .dataframe tbody tr th:only-of-type {\n        vertical-align: middle;\n    }\n\n    .dataframe tbody tr th {\n        vertical-align: top;\n    }\n\n    .dataframe thead th {\n        text-align: right;\n    }\n</style>\n<table border=\"1\" class=\"dataframe\">\n  <thead>\n    <tr style=\"text-align: right;\">\n      <th></th>\n      <th>precision</th>\n      <th>recall</th>\n      <th>f1-score</th>\n      <th>support</th>\n    </tr>\n  </thead>\n  <tbody>\n    <tr>\n      <th>0</th>\n      <td>0.982283</td>\n      <td>0.998000</td>\n      <td>0.990079</td>\n      <td>500</td>\n    </tr>\n    <tr>\n      <th>1</th>\n      <td>0.989130</td>\n      <td>0.910000</td>\n      <td>0.947917</td>\n      <td>100</td>\n    </tr>\n    <tr>\n      <th>accuracy</th>\n      <td>NaN</td>\n      <td>NaN</td>\n      <td>0.983333</td>\n      <td>600</td>\n    </tr>\n    <tr>\n      <th>macro avg</th>\n      <td>0.985707</td>\n      <td>0.954000</td>\n      <td>0.968998</td>\n      <td>600</td>\n    </tr>\n    <tr>\n      <th>weighted avg</th>\n      <td>0.983425</td>\n      <td>0.983333</td>\n      <td>0.983052</td>\n      <td>600</td>\n    </tr>\n  </tbody>\n</table>\n</div>"
     },
     "metadata": {},
     "output_type": "display_data"
    },
    {
     "name": "stdout",
     "output_type": "stream",
     "text": [
      "=============================================\n",
      "tf_lr\n"
     ]
    },
    {
     "data": {
      "text/plain": "              precision    recall  f1-score  support\n0               0.94162  1.000000  0.969932      500\n1               1.00000  0.690000  0.816568      100\naccuracy            NaN       NaN  0.948333      600\nmacro avg       0.97081  0.845000  0.893250      600\nweighted avg    0.95135  0.948333  0.944371      600",
      "text/html": "<div>\n<style scoped>\n    .dataframe tbody tr th:only-of-type {\n        vertical-align: middle;\n    }\n\n    .dataframe tbody tr th {\n        vertical-align: top;\n    }\n\n    .dataframe thead th {\n        text-align: right;\n    }\n</style>\n<table border=\"1\" class=\"dataframe\">\n  <thead>\n    <tr style=\"text-align: right;\">\n      <th></th>\n      <th>precision</th>\n      <th>recall</th>\n      <th>f1-score</th>\n      <th>support</th>\n    </tr>\n  </thead>\n  <tbody>\n    <tr>\n      <th>0</th>\n      <td>0.94162</td>\n      <td>1.000000</td>\n      <td>0.969932</td>\n      <td>500</td>\n    </tr>\n    <tr>\n      <th>1</th>\n      <td>1.00000</td>\n      <td>0.690000</td>\n      <td>0.816568</td>\n      <td>100</td>\n    </tr>\n    <tr>\n      <th>accuracy</th>\n      <td>NaN</td>\n      <td>NaN</td>\n      <td>0.948333</td>\n      <td>600</td>\n    </tr>\n    <tr>\n      <th>macro avg</th>\n      <td>0.97081</td>\n      <td>0.845000</td>\n      <td>0.893250</td>\n      <td>600</td>\n    </tr>\n    <tr>\n      <th>weighted avg</th>\n      <td>0.95135</td>\n      <td>0.948333</td>\n      <td>0.944371</td>\n      <td>600</td>\n    </tr>\n  </tbody>\n</table>\n</div>"
     },
     "metadata": {},
     "output_type": "display_data"
    },
    {
     "name": "stdout",
     "output_type": "stream",
     "text": [
      "=============================================\n",
      "count_dt\n"
     ]
    },
    {
     "data": {
      "text/plain": "              precision    recall  f1-score  support\n0              0.966337  0.976000  0.971144      500\n1              0.873684  0.830000  0.851282      100\naccuracy            NaN       NaN  0.951667      600\nmacro avg      0.920010  0.903000  0.911213      600\nweighted avg   0.950895  0.951667  0.951167      600",
      "text/html": "<div>\n<style scoped>\n    .dataframe tbody tr th:only-of-type {\n        vertical-align: middle;\n    }\n\n    .dataframe tbody tr th {\n        vertical-align: top;\n    }\n\n    .dataframe thead th {\n        text-align: right;\n    }\n</style>\n<table border=\"1\" class=\"dataframe\">\n  <thead>\n    <tr style=\"text-align: right;\">\n      <th></th>\n      <th>precision</th>\n      <th>recall</th>\n      <th>f1-score</th>\n      <th>support</th>\n    </tr>\n  </thead>\n  <tbody>\n    <tr>\n      <th>0</th>\n      <td>0.966337</td>\n      <td>0.976000</td>\n      <td>0.971144</td>\n      <td>500</td>\n    </tr>\n    <tr>\n      <th>1</th>\n      <td>0.873684</td>\n      <td>0.830000</td>\n      <td>0.851282</td>\n      <td>100</td>\n    </tr>\n    <tr>\n      <th>accuracy</th>\n      <td>NaN</td>\n      <td>NaN</td>\n      <td>0.951667</td>\n      <td>600</td>\n    </tr>\n    <tr>\n      <th>macro avg</th>\n      <td>0.920010</td>\n      <td>0.903000</td>\n      <td>0.911213</td>\n      <td>600</td>\n    </tr>\n    <tr>\n      <th>weighted avg</th>\n      <td>0.950895</td>\n      <td>0.951667</td>\n      <td>0.951167</td>\n      <td>600</td>\n    </tr>\n  </tbody>\n</table>\n</div>"
     },
     "metadata": {},
     "output_type": "display_data"
    },
    {
     "name": "stdout",
     "output_type": "stream",
     "text": [
      "=============================================\n",
      "tf_dt\n"
     ]
    },
    {
     "data": {
      "text/plain": "              precision    recall  f1-score  support\n0              0.955253  0.982000  0.968442      500\n1              0.895349  0.770000  0.827957      100\naccuracy            NaN       NaN  0.946667      600\nmacro avg      0.925301  0.876000  0.898199      600\nweighted avg   0.945269  0.946667  0.945028      600",
      "text/html": "<div>\n<style scoped>\n    .dataframe tbody tr th:only-of-type {\n        vertical-align: middle;\n    }\n\n    .dataframe tbody tr th {\n        vertical-align: top;\n    }\n\n    .dataframe thead th {\n        text-align: right;\n    }\n</style>\n<table border=\"1\" class=\"dataframe\">\n  <thead>\n    <tr style=\"text-align: right;\">\n      <th></th>\n      <th>precision</th>\n      <th>recall</th>\n      <th>f1-score</th>\n      <th>support</th>\n    </tr>\n  </thead>\n  <tbody>\n    <tr>\n      <th>0</th>\n      <td>0.955253</td>\n      <td>0.982000</td>\n      <td>0.968442</td>\n      <td>500</td>\n    </tr>\n    <tr>\n      <th>1</th>\n      <td>0.895349</td>\n      <td>0.770000</td>\n      <td>0.827957</td>\n      <td>100</td>\n    </tr>\n    <tr>\n      <th>accuracy</th>\n      <td>NaN</td>\n      <td>NaN</td>\n      <td>0.946667</td>\n      <td>600</td>\n    </tr>\n    <tr>\n      <th>macro avg</th>\n      <td>0.925301</td>\n      <td>0.876000</td>\n      <td>0.898199</td>\n      <td>600</td>\n    </tr>\n    <tr>\n      <th>weighted avg</th>\n      <td>0.945269</td>\n      <td>0.946667</td>\n      <td>0.945028</td>\n      <td>600</td>\n    </tr>\n  </tbody>\n</table>\n</div>"
     },
     "metadata": {},
     "output_type": "display_data"
    },
    {
     "name": "stdout",
     "output_type": "stream",
     "text": [
      "=============================================\n",
      "count_mnb\n"
     ]
    },
    {
     "data": {
      "text/plain": "              precision    recall  f1-score  support\n0              0.986193  1.000000  0.993049      500\n1              1.000000  0.930000  0.963731      100\naccuracy            NaN       NaN  0.988333      600\nmacro avg      0.993097  0.965000  0.978390      600\nweighted avg   0.988494  0.988333  0.988162      600",
      "text/html": "<div>\n<style scoped>\n    .dataframe tbody tr th:only-of-type {\n        vertical-align: middle;\n    }\n\n    .dataframe tbody tr th {\n        vertical-align: top;\n    }\n\n    .dataframe thead th {\n        text-align: right;\n    }\n</style>\n<table border=\"1\" class=\"dataframe\">\n  <thead>\n    <tr style=\"text-align: right;\">\n      <th></th>\n      <th>precision</th>\n      <th>recall</th>\n      <th>f1-score</th>\n      <th>support</th>\n    </tr>\n  </thead>\n  <tbody>\n    <tr>\n      <th>0</th>\n      <td>0.986193</td>\n      <td>1.000000</td>\n      <td>0.993049</td>\n      <td>500</td>\n    </tr>\n    <tr>\n      <th>1</th>\n      <td>1.000000</td>\n      <td>0.930000</td>\n      <td>0.963731</td>\n      <td>100</td>\n    </tr>\n    <tr>\n      <th>accuracy</th>\n      <td>NaN</td>\n      <td>NaN</td>\n      <td>0.988333</td>\n      <td>600</td>\n    </tr>\n    <tr>\n      <th>macro avg</th>\n      <td>0.993097</td>\n      <td>0.965000</td>\n      <td>0.978390</td>\n      <td>600</td>\n    </tr>\n    <tr>\n      <th>weighted avg</th>\n      <td>0.988494</td>\n      <td>0.988333</td>\n      <td>0.988162</td>\n      <td>600</td>\n    </tr>\n  </tbody>\n</table>\n</div>"
     },
     "metadata": {},
     "output_type": "display_data"
    },
    {
     "name": "stdout",
     "output_type": "stream",
     "text": [
      "=============================================\n",
      "tf_mnb\n"
     ]
    },
    {
     "data": {
      "text/plain": "              precision    recall  f1-score  support\n0              0.968992  1.000000  0.984252      500\n1              1.000000  0.840000  0.913043      100\naccuracy            NaN       NaN  0.973333      600\nmacro avg      0.984496  0.920000  0.948648      600\nweighted avg   0.974160  0.973333  0.972384      600",
      "text/html": "<div>\n<style scoped>\n    .dataframe tbody tr th:only-of-type {\n        vertical-align: middle;\n    }\n\n    .dataframe tbody tr th {\n        vertical-align: top;\n    }\n\n    .dataframe thead th {\n        text-align: right;\n    }\n</style>\n<table border=\"1\" class=\"dataframe\">\n  <thead>\n    <tr style=\"text-align: right;\">\n      <th></th>\n      <th>precision</th>\n      <th>recall</th>\n      <th>f1-score</th>\n      <th>support</th>\n    </tr>\n  </thead>\n  <tbody>\n    <tr>\n      <th>0</th>\n      <td>0.968992</td>\n      <td>1.000000</td>\n      <td>0.984252</td>\n      <td>500</td>\n    </tr>\n    <tr>\n      <th>1</th>\n      <td>1.000000</td>\n      <td>0.840000</td>\n      <td>0.913043</td>\n      <td>100</td>\n    </tr>\n    <tr>\n      <th>accuracy</th>\n      <td>NaN</td>\n      <td>NaN</td>\n      <td>0.973333</td>\n      <td>600</td>\n    </tr>\n    <tr>\n      <th>macro avg</th>\n      <td>0.984496</td>\n      <td>0.920000</td>\n      <td>0.948648</td>\n      <td>600</td>\n    </tr>\n    <tr>\n      <th>weighted avg</th>\n      <td>0.974160</td>\n      <td>0.973333</td>\n      <td>0.972384</td>\n      <td>600</td>\n    </tr>\n  </tbody>\n</table>\n</div>"
     },
     "metadata": {},
     "output_type": "display_data"
    },
    {
     "name": "stdout",
     "output_type": "stream",
     "text": [
      "=============================================\n",
      "count_cnb\n"
     ]
    },
    {
     "data": {
      "text/plain": "              precision    recall  f1-score  support\n0              0.986193  1.000000  0.993049      500\n1              1.000000  0.930000  0.963731      100\naccuracy            NaN       NaN  0.988333      600\nmacro avg      0.993097  0.965000  0.978390      600\nweighted avg   0.988494  0.988333  0.988162      600",
      "text/html": "<div>\n<style scoped>\n    .dataframe tbody tr th:only-of-type {\n        vertical-align: middle;\n    }\n\n    .dataframe tbody tr th {\n        vertical-align: top;\n    }\n\n    .dataframe thead th {\n        text-align: right;\n    }\n</style>\n<table border=\"1\" class=\"dataframe\">\n  <thead>\n    <tr style=\"text-align: right;\">\n      <th></th>\n      <th>precision</th>\n      <th>recall</th>\n      <th>f1-score</th>\n      <th>support</th>\n    </tr>\n  </thead>\n  <tbody>\n    <tr>\n      <th>0</th>\n      <td>0.986193</td>\n      <td>1.000000</td>\n      <td>0.993049</td>\n      <td>500</td>\n    </tr>\n    <tr>\n      <th>1</th>\n      <td>1.000000</td>\n      <td>0.930000</td>\n      <td>0.963731</td>\n      <td>100</td>\n    </tr>\n    <tr>\n      <th>accuracy</th>\n      <td>NaN</td>\n      <td>NaN</td>\n      <td>0.988333</td>\n      <td>600</td>\n    </tr>\n    <tr>\n      <th>macro avg</th>\n      <td>0.993097</td>\n      <td>0.965000</td>\n      <td>0.978390</td>\n      <td>600</td>\n    </tr>\n    <tr>\n      <th>weighted avg</th>\n      <td>0.988494</td>\n      <td>0.988333</td>\n      <td>0.988162</td>\n      <td>600</td>\n    </tr>\n  </tbody>\n</table>\n</div>"
     },
     "metadata": {},
     "output_type": "display_data"
    },
    {
     "name": "stdout",
     "output_type": "stream",
     "text": [
      "=============================================\n",
      "tf_cnb\n"
     ]
    },
    {
     "data": {
      "text/plain": "              precision    recall  f1-score  support\n0              0.988095  0.996000  0.992032      500\n1              0.979167  0.940000  0.959184      100\naccuracy            NaN       NaN  0.986667      600\nmacro avg      0.983631  0.968000  0.975608      600\nweighted avg   0.986607  0.986667  0.986557      600",
      "text/html": "<div>\n<style scoped>\n    .dataframe tbody tr th:only-of-type {\n        vertical-align: middle;\n    }\n\n    .dataframe tbody tr th {\n        vertical-align: top;\n    }\n\n    .dataframe thead th {\n        text-align: right;\n    }\n</style>\n<table border=\"1\" class=\"dataframe\">\n  <thead>\n    <tr style=\"text-align: right;\">\n      <th></th>\n      <th>precision</th>\n      <th>recall</th>\n      <th>f1-score</th>\n      <th>support</th>\n    </tr>\n  </thead>\n  <tbody>\n    <tr>\n      <th>0</th>\n      <td>0.988095</td>\n      <td>0.996000</td>\n      <td>0.992032</td>\n      <td>500</td>\n    </tr>\n    <tr>\n      <th>1</th>\n      <td>0.979167</td>\n      <td>0.940000</td>\n      <td>0.959184</td>\n      <td>100</td>\n    </tr>\n    <tr>\n      <th>accuracy</th>\n      <td>NaN</td>\n      <td>NaN</td>\n      <td>0.986667</td>\n      <td>600</td>\n    </tr>\n    <tr>\n      <th>macro avg</th>\n      <td>0.983631</td>\n      <td>0.968000</td>\n      <td>0.975608</td>\n      <td>600</td>\n    </tr>\n    <tr>\n      <th>weighted avg</th>\n      <td>0.986607</td>\n      <td>0.986667</td>\n      <td>0.986557</td>\n      <td>600</td>\n    </tr>\n  </tbody>\n</table>\n</div>"
     },
     "metadata": {},
     "output_type": "display_data"
    },
    {
     "name": "stdout",
     "output_type": "stream",
     "text": [
      "=============================================\n"
     ]
    }
   ],
   "source": [
    "for estimator_name in estimators:\n",
    "    print(estimator_name)\n",
    "    y_pred = estimators[estimator_name].predict(X_test)\n",
    "    display(classification_report_pd(y_test, y_pred))\n",
    "    print('=============================================')"
   ],
   "metadata": {
    "collapsed": false,
    "ExecuteTime": {
     "end_time": "2023-10-08T13:47:31.056599091Z",
     "start_time": "2023-10-08T13:47:30.237499090Z"
    }
   },
   "id": "53676fba809666d1"
  },
  {
   "cell_type": "markdown",
   "source": [
    "При сравнении буду опираться на `accuracy`, как на стандартную метрику в данном случае.\n",
    "\n",
    "Удивительно, что `CountVectorizer` работает лучше, чем `Tf-Idf` во всех моделях (я, если честно, думал, что будет наоборот).\n",
    "\n",
    "Наилучшими в данном случае оказались сразу две модели `ComplementNaiveBayes` и `Multinomial` c  `CountVectorizer`, их `accuracy=0.9883`. Однако другие модели не сильно хуже. \n",
    "\n",
    "Параметры лучших моделей:\n"
   ],
   "metadata": {
    "collapsed": false
   },
   "id": "4de76e9862ce5da7"
  },
  {
   "cell_type": "code",
   "execution_count": 51,
   "outputs": [
    {
     "data": {
      "text/plain": "Pipeline(steps=[('counter',\n                 CountVectorizer(max_df=0.6000000000000001, min_df=0.0,\n                                 ngram_range=(1, 2),\n                                 stop_words=['do', 'themselves', 'to', 'own',\n                                             'should', 'anyhow', 'whereupon',\n                                             'towards', 'her', 'out', 'anyone',\n                                             'when', 'after', 'itself', 'empty',\n                                             're', 'thereafter', 'another',\n                                             'numbertnumber', 'serious',\n                                             'throughout', 'often', 'third',\n                                             'you', 'four', 'neither', 'have',\n                                             'alone', 'on', 'show', ...])),\n                ('mnb', MultinomialNB(alpha=0.1))])",
      "text/html": "<style>#sk-container-id-4 {color: black;}#sk-container-id-4 pre{padding: 0;}#sk-container-id-4 div.sk-toggleable {background-color: white;}#sk-container-id-4 label.sk-toggleable__label {cursor: pointer;display: block;width: 100%;margin-bottom: 0;padding: 0.3em;box-sizing: border-box;text-align: center;}#sk-container-id-4 label.sk-toggleable__label-arrow:before {content: \"▸\";float: left;margin-right: 0.25em;color: #696969;}#sk-container-id-4 label.sk-toggleable__label-arrow:hover:before {color: black;}#sk-container-id-4 div.sk-estimator:hover label.sk-toggleable__label-arrow:before {color: black;}#sk-container-id-4 div.sk-toggleable__content {max-height: 0;max-width: 0;overflow: hidden;text-align: left;background-color: #f0f8ff;}#sk-container-id-4 div.sk-toggleable__content pre {margin: 0.2em;color: black;border-radius: 0.25em;background-color: #f0f8ff;}#sk-container-id-4 input.sk-toggleable__control:checked~div.sk-toggleable__content {max-height: 200px;max-width: 100%;overflow: auto;}#sk-container-id-4 input.sk-toggleable__control:checked~label.sk-toggleable__label-arrow:before {content: \"▾\";}#sk-container-id-4 div.sk-estimator input.sk-toggleable__control:checked~label.sk-toggleable__label {background-color: #d4ebff;}#sk-container-id-4 div.sk-label input.sk-toggleable__control:checked~label.sk-toggleable__label {background-color: #d4ebff;}#sk-container-id-4 input.sk-hidden--visually {border: 0;clip: rect(1px 1px 1px 1px);clip: rect(1px, 1px, 1px, 1px);height: 1px;margin: -1px;overflow: hidden;padding: 0;position: absolute;width: 1px;}#sk-container-id-4 div.sk-estimator {font-family: monospace;background-color: #f0f8ff;border: 1px dotted black;border-radius: 0.25em;box-sizing: border-box;margin-bottom: 0.5em;}#sk-container-id-4 div.sk-estimator:hover {background-color: #d4ebff;}#sk-container-id-4 div.sk-parallel-item::after {content: \"\";width: 100%;border-bottom: 1px solid gray;flex-grow: 1;}#sk-container-id-4 div.sk-label:hover label.sk-toggleable__label {background-color: #d4ebff;}#sk-container-id-4 div.sk-serial::before {content: \"\";position: absolute;border-left: 1px solid gray;box-sizing: border-box;top: 0;bottom: 0;left: 50%;z-index: 0;}#sk-container-id-4 div.sk-serial {display: flex;flex-direction: column;align-items: center;background-color: white;padding-right: 0.2em;padding-left: 0.2em;position: relative;}#sk-container-id-4 div.sk-item {position: relative;z-index: 1;}#sk-container-id-4 div.sk-parallel {display: flex;align-items: stretch;justify-content: center;background-color: white;position: relative;}#sk-container-id-4 div.sk-item::before, #sk-container-id-4 div.sk-parallel-item::before {content: \"\";position: absolute;border-left: 1px solid gray;box-sizing: border-box;top: 0;bottom: 0;left: 50%;z-index: -1;}#sk-container-id-4 div.sk-parallel-item {display: flex;flex-direction: column;z-index: 1;position: relative;background-color: white;}#sk-container-id-4 div.sk-parallel-item:first-child::after {align-self: flex-end;width: 50%;}#sk-container-id-4 div.sk-parallel-item:last-child::after {align-self: flex-start;width: 50%;}#sk-container-id-4 div.sk-parallel-item:only-child::after {width: 0;}#sk-container-id-4 div.sk-dashed-wrapped {border: 1px dashed gray;margin: 0 0.4em 0.5em 0.4em;box-sizing: border-box;padding-bottom: 0.4em;background-color: white;}#sk-container-id-4 div.sk-label label {font-family: monospace;font-weight: bold;display: inline-block;line-height: 1.2em;}#sk-container-id-4 div.sk-label-container {text-align: center;}#sk-container-id-4 div.sk-container {/* jupyter's `normalize.less` sets `[hidden] { display: none; }` but bootstrap.min.css set `[hidden] { display: none !important; }` so we also need the `!important` here to be able to override the default hidden behavior on the sphinx rendered scikit-learn.org. See: https://github.com/scikit-learn/scikit-learn/issues/21755 */display: inline-block !important;position: relative;}#sk-container-id-4 div.sk-text-repr-fallback {display: none;}</style><div id=\"sk-container-id-4\" class=\"sk-top-container\"><div class=\"sk-text-repr-fallback\"><pre>Pipeline(steps=[(&#x27;counter&#x27;,\n                 CountVectorizer(max_df=0.6000000000000001, min_df=0.0,\n                                 ngram_range=(1, 2),\n                                 stop_words=[&#x27;do&#x27;, &#x27;themselves&#x27;, &#x27;to&#x27;, &#x27;own&#x27;,\n                                             &#x27;should&#x27;, &#x27;anyhow&#x27;, &#x27;whereupon&#x27;,\n                                             &#x27;towards&#x27;, &#x27;her&#x27;, &#x27;out&#x27;, &#x27;anyone&#x27;,\n                                             &#x27;when&#x27;, &#x27;after&#x27;, &#x27;itself&#x27;, &#x27;empty&#x27;,\n                                             &#x27;re&#x27;, &#x27;thereafter&#x27;, &#x27;another&#x27;,\n                                             &#x27;numbertnumber&#x27;, &#x27;serious&#x27;,\n                                             &#x27;throughout&#x27;, &#x27;often&#x27;, &#x27;third&#x27;,\n                                             &#x27;you&#x27;, &#x27;four&#x27;, &#x27;neither&#x27;, &#x27;have&#x27;,\n                                             &#x27;alone&#x27;, &#x27;on&#x27;, &#x27;show&#x27;, ...])),\n                (&#x27;mnb&#x27;, MultinomialNB(alpha=0.1))])</pre><b>In a Jupyter environment, please rerun this cell to show the HTML representation or trust the notebook. <br />On GitHub, the HTML representation is unable to render, please try loading this page with nbviewer.org.</b></div><div class=\"sk-container\" hidden><div class=\"sk-item sk-dashed-wrapped\"><div class=\"sk-label-container\"><div class=\"sk-label sk-toggleable\"><input class=\"sk-toggleable__control sk-hidden--visually\" id=\"sk-estimator-id-10\" type=\"checkbox\" ><label for=\"sk-estimator-id-10\" class=\"sk-toggleable__label sk-toggleable__label-arrow\">Pipeline</label><div class=\"sk-toggleable__content\"><pre>Pipeline(steps=[(&#x27;counter&#x27;,\n                 CountVectorizer(max_df=0.6000000000000001, min_df=0.0,\n                                 ngram_range=(1, 2),\n                                 stop_words=[&#x27;do&#x27;, &#x27;themselves&#x27;, &#x27;to&#x27;, &#x27;own&#x27;,\n                                             &#x27;should&#x27;, &#x27;anyhow&#x27;, &#x27;whereupon&#x27;,\n                                             &#x27;towards&#x27;, &#x27;her&#x27;, &#x27;out&#x27;, &#x27;anyone&#x27;,\n                                             &#x27;when&#x27;, &#x27;after&#x27;, &#x27;itself&#x27;, &#x27;empty&#x27;,\n                                             &#x27;re&#x27;, &#x27;thereafter&#x27;, &#x27;another&#x27;,\n                                             &#x27;numbertnumber&#x27;, &#x27;serious&#x27;,\n                                             &#x27;throughout&#x27;, &#x27;often&#x27;, &#x27;third&#x27;,\n                                             &#x27;you&#x27;, &#x27;four&#x27;, &#x27;neither&#x27;, &#x27;have&#x27;,\n                                             &#x27;alone&#x27;, &#x27;on&#x27;, &#x27;show&#x27;, ...])),\n                (&#x27;mnb&#x27;, MultinomialNB(alpha=0.1))])</pre></div></div></div><div class=\"sk-serial\"><div class=\"sk-item\"><div class=\"sk-estimator sk-toggleable\"><input class=\"sk-toggleable__control sk-hidden--visually\" id=\"sk-estimator-id-11\" type=\"checkbox\" ><label for=\"sk-estimator-id-11\" class=\"sk-toggleable__label sk-toggleable__label-arrow\">CountVectorizer</label><div class=\"sk-toggleable__content\"><pre>CountVectorizer(max_df=0.6000000000000001, min_df=0.0, ngram_range=(1, 2),\n                stop_words=[&#x27;do&#x27;, &#x27;themselves&#x27;, &#x27;to&#x27;, &#x27;own&#x27;, &#x27;should&#x27;, &#x27;anyhow&#x27;,\n                            &#x27;whereupon&#x27;, &#x27;towards&#x27;, &#x27;her&#x27;, &#x27;out&#x27;, &#x27;anyone&#x27;,\n                            &#x27;when&#x27;, &#x27;after&#x27;, &#x27;itself&#x27;, &#x27;empty&#x27;, &#x27;re&#x27;,\n                            &#x27;thereafter&#x27;, &#x27;another&#x27;, &#x27;numbertnumber&#x27;, &#x27;serious&#x27;,\n                            &#x27;throughout&#x27;, &#x27;often&#x27;, &#x27;third&#x27;, &#x27;you&#x27;, &#x27;four&#x27;,\n                            &#x27;neither&#x27;, &#x27;have&#x27;, &#x27;alone&#x27;, &#x27;on&#x27;, &#x27;show&#x27;, ...])</pre></div></div></div><div class=\"sk-item\"><div class=\"sk-estimator sk-toggleable\"><input class=\"sk-toggleable__control sk-hidden--visually\" id=\"sk-estimator-id-12\" type=\"checkbox\" ><label for=\"sk-estimator-id-12\" class=\"sk-toggleable__label sk-toggleable__label-arrow\">MultinomialNB</label><div class=\"sk-toggleable__content\"><pre>MultinomialNB(alpha=0.1)</pre></div></div></div></div></div></div></div>"
     },
     "execution_count": 51,
     "metadata": {},
     "output_type": "execute_result"
    }
   ],
   "source": [
    "estimators['count_mnb']"
   ],
   "metadata": {
    "collapsed": false,
    "ExecuteTime": {
     "end_time": "2023-10-08T14:03:50.178179391Z",
     "start_time": "2023-10-08T14:03:50.131921646Z"
    }
   },
   "id": "bbbda853392b3ca3"
  },
  {
   "cell_type": "code",
   "execution_count": 52,
   "outputs": [
    {
     "data": {
      "text/plain": "Pipeline(steps=[('counter',\n                 CountVectorizer(max_df=0.6000000000000001, min_df=0.0,\n                                 ngram_range=(1, 2),\n                                 stop_words=['do', 'themselves', 'to', 'own',\n                                             'should', 'anyhow', 'whereupon',\n                                             'towards', 'her', 'out', 'anyone',\n                                             'when', 'after', 'itself', 'empty',\n                                             're', 'thereafter', 'another',\n                                             'numbertnumber', 'serious',\n                                             'throughout', 'often', 'third',\n                                             'you', 'four', 'neither', 'have',\n                                             'alone', 'on', 'show', ...])),\n                ('cnb', ComplementNB(alpha=0.1))])",
      "text/html": "<style>#sk-container-id-5 {color: black;}#sk-container-id-5 pre{padding: 0;}#sk-container-id-5 div.sk-toggleable {background-color: white;}#sk-container-id-5 label.sk-toggleable__label {cursor: pointer;display: block;width: 100%;margin-bottom: 0;padding: 0.3em;box-sizing: border-box;text-align: center;}#sk-container-id-5 label.sk-toggleable__label-arrow:before {content: \"▸\";float: left;margin-right: 0.25em;color: #696969;}#sk-container-id-5 label.sk-toggleable__label-arrow:hover:before {color: black;}#sk-container-id-5 div.sk-estimator:hover label.sk-toggleable__label-arrow:before {color: black;}#sk-container-id-5 div.sk-toggleable__content {max-height: 0;max-width: 0;overflow: hidden;text-align: left;background-color: #f0f8ff;}#sk-container-id-5 div.sk-toggleable__content pre {margin: 0.2em;color: black;border-radius: 0.25em;background-color: #f0f8ff;}#sk-container-id-5 input.sk-toggleable__control:checked~div.sk-toggleable__content {max-height: 200px;max-width: 100%;overflow: auto;}#sk-container-id-5 input.sk-toggleable__control:checked~label.sk-toggleable__label-arrow:before {content: \"▾\";}#sk-container-id-5 div.sk-estimator input.sk-toggleable__control:checked~label.sk-toggleable__label {background-color: #d4ebff;}#sk-container-id-5 div.sk-label input.sk-toggleable__control:checked~label.sk-toggleable__label {background-color: #d4ebff;}#sk-container-id-5 input.sk-hidden--visually {border: 0;clip: rect(1px 1px 1px 1px);clip: rect(1px, 1px, 1px, 1px);height: 1px;margin: -1px;overflow: hidden;padding: 0;position: absolute;width: 1px;}#sk-container-id-5 div.sk-estimator {font-family: monospace;background-color: #f0f8ff;border: 1px dotted black;border-radius: 0.25em;box-sizing: border-box;margin-bottom: 0.5em;}#sk-container-id-5 div.sk-estimator:hover {background-color: #d4ebff;}#sk-container-id-5 div.sk-parallel-item::after {content: \"\";width: 100%;border-bottom: 1px solid gray;flex-grow: 1;}#sk-container-id-5 div.sk-label:hover label.sk-toggleable__label {background-color: #d4ebff;}#sk-container-id-5 div.sk-serial::before {content: \"\";position: absolute;border-left: 1px solid gray;box-sizing: border-box;top: 0;bottom: 0;left: 50%;z-index: 0;}#sk-container-id-5 div.sk-serial {display: flex;flex-direction: column;align-items: center;background-color: white;padding-right: 0.2em;padding-left: 0.2em;position: relative;}#sk-container-id-5 div.sk-item {position: relative;z-index: 1;}#sk-container-id-5 div.sk-parallel {display: flex;align-items: stretch;justify-content: center;background-color: white;position: relative;}#sk-container-id-5 div.sk-item::before, #sk-container-id-5 div.sk-parallel-item::before {content: \"\";position: absolute;border-left: 1px solid gray;box-sizing: border-box;top: 0;bottom: 0;left: 50%;z-index: -1;}#sk-container-id-5 div.sk-parallel-item {display: flex;flex-direction: column;z-index: 1;position: relative;background-color: white;}#sk-container-id-5 div.sk-parallel-item:first-child::after {align-self: flex-end;width: 50%;}#sk-container-id-5 div.sk-parallel-item:last-child::after {align-self: flex-start;width: 50%;}#sk-container-id-5 div.sk-parallel-item:only-child::after {width: 0;}#sk-container-id-5 div.sk-dashed-wrapped {border: 1px dashed gray;margin: 0 0.4em 0.5em 0.4em;box-sizing: border-box;padding-bottom: 0.4em;background-color: white;}#sk-container-id-5 div.sk-label label {font-family: monospace;font-weight: bold;display: inline-block;line-height: 1.2em;}#sk-container-id-5 div.sk-label-container {text-align: center;}#sk-container-id-5 div.sk-container {/* jupyter's `normalize.less` sets `[hidden] { display: none; }` but bootstrap.min.css set `[hidden] { display: none !important; }` so we also need the `!important` here to be able to override the default hidden behavior on the sphinx rendered scikit-learn.org. See: https://github.com/scikit-learn/scikit-learn/issues/21755 */display: inline-block !important;position: relative;}#sk-container-id-5 div.sk-text-repr-fallback {display: none;}</style><div id=\"sk-container-id-5\" class=\"sk-top-container\"><div class=\"sk-text-repr-fallback\"><pre>Pipeline(steps=[(&#x27;counter&#x27;,\n                 CountVectorizer(max_df=0.6000000000000001, min_df=0.0,\n                                 ngram_range=(1, 2),\n                                 stop_words=[&#x27;do&#x27;, &#x27;themselves&#x27;, &#x27;to&#x27;, &#x27;own&#x27;,\n                                             &#x27;should&#x27;, &#x27;anyhow&#x27;, &#x27;whereupon&#x27;,\n                                             &#x27;towards&#x27;, &#x27;her&#x27;, &#x27;out&#x27;, &#x27;anyone&#x27;,\n                                             &#x27;when&#x27;, &#x27;after&#x27;, &#x27;itself&#x27;, &#x27;empty&#x27;,\n                                             &#x27;re&#x27;, &#x27;thereafter&#x27;, &#x27;another&#x27;,\n                                             &#x27;numbertnumber&#x27;, &#x27;serious&#x27;,\n                                             &#x27;throughout&#x27;, &#x27;often&#x27;, &#x27;third&#x27;,\n                                             &#x27;you&#x27;, &#x27;four&#x27;, &#x27;neither&#x27;, &#x27;have&#x27;,\n                                             &#x27;alone&#x27;, &#x27;on&#x27;, &#x27;show&#x27;, ...])),\n                (&#x27;cnb&#x27;, ComplementNB(alpha=0.1))])</pre><b>In a Jupyter environment, please rerun this cell to show the HTML representation or trust the notebook. <br />On GitHub, the HTML representation is unable to render, please try loading this page with nbviewer.org.</b></div><div class=\"sk-container\" hidden><div class=\"sk-item sk-dashed-wrapped\"><div class=\"sk-label-container\"><div class=\"sk-label sk-toggleable\"><input class=\"sk-toggleable__control sk-hidden--visually\" id=\"sk-estimator-id-13\" type=\"checkbox\" ><label for=\"sk-estimator-id-13\" class=\"sk-toggleable__label sk-toggleable__label-arrow\">Pipeline</label><div class=\"sk-toggleable__content\"><pre>Pipeline(steps=[(&#x27;counter&#x27;,\n                 CountVectorizer(max_df=0.6000000000000001, min_df=0.0,\n                                 ngram_range=(1, 2),\n                                 stop_words=[&#x27;do&#x27;, &#x27;themselves&#x27;, &#x27;to&#x27;, &#x27;own&#x27;,\n                                             &#x27;should&#x27;, &#x27;anyhow&#x27;, &#x27;whereupon&#x27;,\n                                             &#x27;towards&#x27;, &#x27;her&#x27;, &#x27;out&#x27;, &#x27;anyone&#x27;,\n                                             &#x27;when&#x27;, &#x27;after&#x27;, &#x27;itself&#x27;, &#x27;empty&#x27;,\n                                             &#x27;re&#x27;, &#x27;thereafter&#x27;, &#x27;another&#x27;,\n                                             &#x27;numbertnumber&#x27;, &#x27;serious&#x27;,\n                                             &#x27;throughout&#x27;, &#x27;often&#x27;, &#x27;third&#x27;,\n                                             &#x27;you&#x27;, &#x27;four&#x27;, &#x27;neither&#x27;, &#x27;have&#x27;,\n                                             &#x27;alone&#x27;, &#x27;on&#x27;, &#x27;show&#x27;, ...])),\n                (&#x27;cnb&#x27;, ComplementNB(alpha=0.1))])</pre></div></div></div><div class=\"sk-serial\"><div class=\"sk-item\"><div class=\"sk-estimator sk-toggleable\"><input class=\"sk-toggleable__control sk-hidden--visually\" id=\"sk-estimator-id-14\" type=\"checkbox\" ><label for=\"sk-estimator-id-14\" class=\"sk-toggleable__label sk-toggleable__label-arrow\">CountVectorizer</label><div class=\"sk-toggleable__content\"><pre>CountVectorizer(max_df=0.6000000000000001, min_df=0.0, ngram_range=(1, 2),\n                stop_words=[&#x27;do&#x27;, &#x27;themselves&#x27;, &#x27;to&#x27;, &#x27;own&#x27;, &#x27;should&#x27;, &#x27;anyhow&#x27;,\n                            &#x27;whereupon&#x27;, &#x27;towards&#x27;, &#x27;her&#x27;, &#x27;out&#x27;, &#x27;anyone&#x27;,\n                            &#x27;when&#x27;, &#x27;after&#x27;, &#x27;itself&#x27;, &#x27;empty&#x27;, &#x27;re&#x27;,\n                            &#x27;thereafter&#x27;, &#x27;another&#x27;, &#x27;numbertnumber&#x27;, &#x27;serious&#x27;,\n                            &#x27;throughout&#x27;, &#x27;often&#x27;, &#x27;third&#x27;, &#x27;you&#x27;, &#x27;four&#x27;,\n                            &#x27;neither&#x27;, &#x27;have&#x27;, &#x27;alone&#x27;, &#x27;on&#x27;, &#x27;show&#x27;, ...])</pre></div></div></div><div class=\"sk-item\"><div class=\"sk-estimator sk-toggleable\"><input class=\"sk-toggleable__control sk-hidden--visually\" id=\"sk-estimator-id-15\" type=\"checkbox\" ><label for=\"sk-estimator-id-15\" class=\"sk-toggleable__label sk-toggleable__label-arrow\">ComplementNB</label><div class=\"sk-toggleable__content\"><pre>ComplementNB(alpha=0.1)</pre></div></div></div></div></div></div></div>"
     },
     "execution_count": 52,
     "metadata": {},
     "output_type": "execute_result"
    }
   ],
   "source": [
    "estimators['count_cnb']"
   ],
   "metadata": {
    "collapsed": false,
    "ExecuteTime": {
     "end_time": "2023-10-08T14:03:50.403476862Z",
     "start_time": "2023-10-08T14:03:50.302220910Z"
    }
   },
   "id": "bad7831281bc30ab"
  },
  {
   "cell_type": "markdown",
   "source": [
    "Лучшие параметры у обоих:\n",
    "\n",
    "- CountVectorizer: `min_df=0.0`,`max_df=0.6`, `ngram_range=(1,2)`\n",
    "- NB: `alpha=0.1`"
   ],
   "metadata": {
    "collapsed": false
   },
   "id": "613ce5d5378618b6"
  }
 ],
 "metadata": {
  "kernelspec": {
   "display_name": "Python 3",
   "language": "python",
   "name": "python3"
  },
  "language_info": {
   "codemirror_mode": {
    "name": "ipython",
    "version": 2
   },
   "file_extension": ".py",
   "mimetype": "text/x-python",
   "name": "python",
   "nbconvert_exporter": "python",
   "pygments_lexer": "ipython2",
   "version": "2.7.6"
  }
 },
 "nbformat": 4,
 "nbformat_minor": 5
}
